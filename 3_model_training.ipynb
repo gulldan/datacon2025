{
 "cells": [
  {
   "cell_type": "code",
   "execution_count": 1,
   "metadata": {},
   "outputs": [
    {
     "name": "stderr",
     "output_type": "stream",
     "text": [
      "INFO:rdkit:Enabling RDKit 2025.03.3 jupyter extensions\n",
      "INFO:src:✅ Оптимизированные современные модели доступны\n",
      "INFO:src:✅ Графовые утилиты доступны\n",
      "INFO:src:📦 Инициализация пакета COX-2 Dataset Preparation v1.2.0\n",
      "INFO:src:🚀 Оптимизированные модели готовы к использованию\n",
      "INFO:src:📊 Графовые утилиты готовы к использованию\n",
      "INFO:src:✅ Инициализация завершена\n",
      "INFO:__main__:Модули успешно импортированы и перезагружены!\n"
     ]
    }
   ],
   "source": [
    "# Принудительная перезагрузка модулей и импорты\n",
    "import importlib\n",
    "import sys\n",
    "\n",
    "sys.path.append(\"src\")\n",
    "\n",
    "# Настройка логирования\n",
    "import logging\n",
    "\n",
    "logging.basicConfig(level=logging.INFO)\n",
    "logger = logging.getLogger(__name__)\n",
    "\n",
    "# Импортируем модули с принудительной перезагрузкой\n",
    "import src.classical_models\n",
    "import src.cross_validation\n",
    "import src.data_preparation\n",
    "import src.model_comparison\n",
    "import src.neural_models\n",
    "\n",
    "# Перезагружаем модули для получения последних изменений\n",
    "importlib.reload(src.classical_models)\n",
    "importlib.reload(src.data_preparation)\n",
    "importlib.reload(src.model_comparison)\n",
    "importlib.reload(src.neural_models)\n",
    "importlib.reload(src.cross_validation)\n",
    "\n",
    "from src.classical_models import train_classical_models\n",
    "from src.cross_validation import run_cross_validation\n",
    "from src.data_preparation import prepare_data_pipeline\n",
    "from src.model_comparison import create_model_ranking, create_performance_comparison\n",
    "from src.neural_models import train_neural_models\n",
    "\n",
    "logger.info(\"Модули успешно импортированы и перезагружены!\")"
   ]
  },
  {
   "cell_type": "code",
   "execution_count": 2,
   "metadata": {},
   "outputs": [
    {
     "name": "stderr",
     "output_type": "stream",
     "text": [
      "INFO:__main__:Модули успешно импортированы!\n"
     ]
    }
   ],
   "source": [
    "# Импорты\n",
    "import sys\n",
    "\n",
    "sys.path.append(\"src\")\n",
    "\n",
    "# Настройка логирования\n",
    "import logging\n",
    "\n",
    "import polars as pl\n",
    "\n",
    "# Импортируем наши модули\n",
    "\n",
    "logging.basicConfig(level=logging.INFO)\n",
    "logger = logging.getLogger(__name__)\n",
    "\n",
    "logger.info(\"Модули успешно импортированы!\")"
   ]
  },
  {
   "cell_type": "code",
   "execution_count": 3,
   "metadata": {},
   "outputs": [
    {
     "name": "stderr",
     "output_type": "stream",
     "text": [
      "INFO:src.data_preparation:Загружены данные: 7322 строк, 712 колонок\n",
      "INFO:src.data_preparation:Очищено данных: 7322 -> 3661 строк (3661 удалено)\n",
      "INFO:src.data_preparation:Отфильтровано признаков: 711 -> 674 (порог дисперсии: 0.01)\n",
      "INFO:src.data_preparation:Нормализованы признаки методом: standard\n",
      "INFO:src.data_preparation:Данные разделены: обучение 2928, тест 733\n",
      "INFO:__main__:Данные подготовлены:\n",
      "INFO:__main__:Обучающая выборка: (2928, 674)\n",
      "INFO:__main__:Тестовая выборка: (733, 674)\n",
      "INFO:__main__:Исходная форма: (7322, 712)\n",
      "INFO:__main__:Финальная форма: (3661, 674)\n"
     ]
    }
   ],
   "source": [
    "# Подготовка данных\n",
    "data_path = \"data/descriptors/cox2_best_combined.parquet\"\n",
    "target_column = \"pic50\"\n",
    "\n",
    "# Используем пайплайн подготовки данных\n",
    "data_prepared = prepare_data_pipeline(\n",
    "    file_path=data_path,\n",
    "    target_column=target_column,\n",
    "    test_size=0.2,\n",
    "    variance_threshold=0.01,\n",
    "    normalization=\"standard\",\n",
    "    random_state=42,\n",
    ")\n",
    "\n",
    "X_train = data_prepared[\"X_train\"]\n",
    "X_test = data_prepared[\"X_test\"]\n",
    "y_train = data_prepared[\"y_train\"]\n",
    "y_test = data_prepared[\"y_test\"]\n",
    "\n",
    "logger.info(\"Данные подготовлены:\")\n",
    "logger.info(f\"Обучающая выборка: {X_train.shape}\")\n",
    "logger.info(f\"Тестовая выборка: {X_test.shape}\")\n",
    "logger.info(f\"Исходная форма: {data_prepared['original_shape']}\")\n",
    "logger.info(f\"Финальная форма: {data_prepared['final_shape']}\")"
   ]
  },
  {
   "cell_type": "code",
   "execution_count": 4,
   "metadata": {},
   "outputs": [
    {
     "name": "stderr",
     "output_type": "stream",
     "text": [
      "INFO:__main__:=== ОБОСНОВАНИЕ ВЫБОРА МОДЕЛЕЙ ===\n",
      "INFO:__main__:1. Random Forest - ensemble-метод, устойчивый к переобучению, хорошо работает с молекулярными дескрипторами\n",
      "INFO:__main__:2. XGBoost/Gradient Boosting - современный градиентный бустинг с высокой точностью\n",
      "INFO:__main__:3. MLP - полносвязная нейросеть для изучения нелинейных паттернов\n",
      "INFO:__main__:4. CNN - сверточная сеть для обнаружения локальных паттернов в дескрипторах\n",
      "INFO:__main__:\n",
      "=== ЗАПУСК ПОЛНОГО ПАЙПЛАЙНА ОБУЧЕНИЯ МОДЕЛЕЙ ===\n",
      "\n",
      "INFO:__main__:1. Обучение классических ensemble-моделей...\n",
      "INFO:src.classical_models:Обучение Random Forest...\n",
      "INFO:src.classical_models:Обучена модель RandomForest (n_estimators=100, max_depth=10) за 1.243 сек\n",
      "INFO:src.classical_models:Обучение XGBoost/Gradient Boosting...\n",
      "INFO:src.classical_models:Обучена модель XGBoost (n_estimators=100, max_depth=6, lr=0.1) за 0.687 сек\n",
      "INFO:src.classical_models:Метрики для RandomForest: MAE=0.7560, RMSE=0.9649, R²=0.4618\n",
      "INFO:src.classical_models:Метрики для XGBoost: MAE=0.6934, RMSE=0.9083, R²=0.5231\n",
      "INFO:__main__:\n",
      "2. Обучение нейросетевых моделей...\n",
      "INFO:src.neural_models:Начинаем обучение MLP на cuda\n",
      "INFO:src.neural_models:Эпоха 10/50: train_loss=1.1559\n",
      "INFO:src.neural_models:Эпоха 20/50: train_loss=0.8322\n",
      "INFO:src.neural_models:Эпоха 30/50: train_loss=0.6905\n",
      "INFO:src.neural_models:Эпоха 40/50: train_loss=0.5900\n",
      "INFO:src.neural_models:Эпоха 50/50: train_loss=0.5463\n",
      "INFO:src.neural_models:Обучена модель MLP за 4.758 сек\n",
      "INFO:src.neural_models:Начинаем обучение CNN на cuda\n",
      "INFO:src.neural_models:Эпоха 10/50: train_loss=1.6142\n",
      "INFO:src.neural_models:Эпоха 20/50: train_loss=1.1675\n",
      "INFO:src.neural_models:Эпоха 30/50: train_loss=0.9391\n",
      "INFO:src.neural_models:Эпоха 40/50: train_loss=0.8371\n",
      "INFO:src.neural_models:Эпоха 50/50: train_loss=0.7225\n",
      "INFO:src.neural_models:Обучена модель CNN за 8.876 сек\n",
      "INFO:src.neural_models:Метрики для MLP: MAE=0.8370, RMSE=1.0745, R²=0.3326\n",
      "INFO:src.neural_models:Метрики для CNN: MAE=0.8694, RMSE=1.1147, R²=0.2817\n",
      "INFO:__main__:\n",
      "3. Запуск кросс-валидации для анализа стабильности...\n",
      "INFO:src.cross_validation:Начинаем кросс-валидацию ensemble-моделей\n",
      "INFO:src.cross_validation:Фолд 1/5\n",
      "INFO:src.classical_models:Обучена модель random_forest_fold_0 (n_estimators=100, max_depth=10) за 0.953 сек\n",
      "INFO:src.classical_models:Метрики для random_forest_fold_0: MAE=0.7705, RMSE=1.0013, R²=0.4581\n",
      "INFO:src.classical_models:Обучена модель xgboost_fold_0 (n_estimators=100, max_depth=6, lr=0.1) за 0.553 сек\n",
      "INFO:src.classical_models:Метрики для xgboost_fold_0: MAE=0.7316, RMSE=0.9756, R²=0.4855\n",
      "INFO:src.cross_validation:Фолд 2/5\n",
      "INFO:src.classical_models:Обучена модель random_forest_fold_1 (n_estimators=100, max_depth=10) за 0.970 сек\n",
      "INFO:src.classical_models:Метрики для random_forest_fold_1: MAE=0.7588, RMSE=0.9354, R²=0.5117\n",
      "INFO:src.classical_models:Обучена модель xgboost_fold_1 (n_estimators=100, max_depth=6, lr=0.1) за 0.555 сек\n",
      "INFO:src.classical_models:Метрики для xgboost_fold_1: MAE=0.6892, RMSE=0.8780, R²=0.5698\n",
      "INFO:src.cross_validation:Фолд 3/5\n",
      "INFO:src.classical_models:Обучена модель random_forest_fold_2 (n_estimators=100, max_depth=10) за 0.965 сек\n",
      "INFO:src.classical_models:Метрики для random_forest_fold_2: MAE=0.8103, RMSE=1.0183, R²=0.3924\n",
      "INFO:src.classical_models:Обучена модель xgboost_fold_2 (n_estimators=100, max_depth=6, lr=0.1) за 0.558 сек\n",
      "INFO:src.classical_models:Метрики для xgboost_fold_2: MAE=0.7718, RMSE=0.9871, R²=0.4291\n",
      "INFO:src.cross_validation:Фолд 4/5\n",
      "INFO:src.classical_models:Обучена модель random_forest_fold_3 (n_estimators=100, max_depth=10) за 0.963 сек\n",
      "INFO:src.classical_models:Метрики для random_forest_fold_3: MAE=0.7606, RMSE=0.9666, R²=0.4476\n",
      "INFO:src.classical_models:Обучена модель xgboost_fold_3 (n_estimators=100, max_depth=6, lr=0.1) за 0.557 сек\n",
      "INFO:src.classical_models:Метрики для xgboost_fold_3: MAE=0.7170, RMSE=0.9330, R²=0.4853\n",
      "INFO:src.cross_validation:Фолд 5/5\n",
      "INFO:src.classical_models:Обучена модель random_forest_fold_4 (n_estimators=100, max_depth=10) за 0.972 сек\n",
      "INFO:src.classical_models:Метрики для random_forest_fold_4: MAE=0.7838, RMSE=0.9999, R²=0.4200\n",
      "INFO:src.classical_models:Обучена модель xgboost_fold_4 (n_estimators=100, max_depth=6, lr=0.1) за 0.544 сек\n",
      "INFO:src.classical_models:Метрики для xgboost_fold_4: MAE=0.7367, RMSE=0.9638, R²=0.4611\n",
      "INFO:src.cross_validation:Начинаем кросс-валидацию нейросетевых моделей\n",
      "INFO:src.cross_validation:Фолд 1/5 (нейросети)\n",
      "INFO:src.neural_models:Начинаем обучение mlp_fold_0 на cuda\n",
      "INFO:src.neural_models:Эпоха 10/50: train_loss=1.2268\n",
      "INFO:src.neural_models:Эпоха 20/50: train_loss=0.9130\n",
      "INFO:src.neural_models:Эпоха 30/50: train_loss=0.6811\n",
      "INFO:src.neural_models:Эпоха 40/50: train_loss=0.5837\n",
      "INFO:src.neural_models:Эпоха 50/50: train_loss=0.5187\n",
      "INFO:src.neural_models:Обучена модель mlp_fold_0 за 3.736 сек\n",
      "INFO:src.neural_models:Метрики для mlp_fold_0: MAE=0.8785, RMSE=1.1482, R²=0.2874\n",
      "INFO:src.cross_validation:Фолд 2/5 (нейросети)\n",
      "INFO:src.neural_models:Начинаем обучение mlp_fold_1 на cuda\n",
      "INFO:src.neural_models:Эпоха 10/50: train_loss=1.1685\n",
      "INFO:src.neural_models:Эпоха 20/50: train_loss=0.9224\n",
      "INFO:src.neural_models:Эпоха 30/50: train_loss=0.6941\n",
      "INFO:src.neural_models:Эпоха 40/50: train_loss=0.6215\n",
      "INFO:src.neural_models:Эпоха 50/50: train_loss=0.5486\n",
      "INFO:src.neural_models:Обучена модель mlp_fold_1 за 3.673 сек\n",
      "INFO:src.neural_models:Метрики для mlp_fold_1: MAE=0.7999, RMSE=1.0332, R²=0.4043\n",
      "INFO:src.cross_validation:Фолд 3/5 (нейросети)\n",
      "INFO:src.neural_models:Начинаем обучение mlp_fold_2 на cuda\n",
      "INFO:src.neural_models:Эпоха 10/50: train_loss=1.1764\n",
      "INFO:src.neural_models:Эпоха 20/50: train_loss=0.7911\n",
      "INFO:src.neural_models:Эпоха 30/50: train_loss=0.7203\n",
      "INFO:src.neural_models:Эпоха 40/50: train_loss=0.5954\n",
      "INFO:src.neural_models:Эпоха 50/50: train_loss=0.5216\n",
      "INFO:src.neural_models:Обучена модель mlp_fold_2 за 3.733 сек\n",
      "INFO:src.neural_models:Метрики для mlp_fold_2: MAE=0.8594, RMSE=1.0965, R²=0.2955\n",
      "INFO:src.cross_validation:Фолд 4/5 (нейросети)\n",
      "INFO:src.neural_models:Начинаем обучение mlp_fold_3 на cuda\n",
      "INFO:src.neural_models:Эпоха 10/50: train_loss=1.1530\n",
      "INFO:src.neural_models:Эпоха 20/50: train_loss=0.9348\n",
      "INFO:src.neural_models:Эпоха 30/50: train_loss=0.7292\n",
      "INFO:src.neural_models:Эпоха 40/50: train_loss=0.6765\n",
      "INFO:src.neural_models:Эпоха 50/50: train_loss=0.5861\n",
      "INFO:src.neural_models:Обучена модель mlp_fold_3 за 3.724 сек\n",
      "INFO:src.neural_models:Метрики для mlp_fold_3: MAE=0.8185, RMSE=1.0961, R²=0.2897\n",
      "INFO:src.cross_validation:Фолд 5/5 (нейросети)\n",
      "INFO:src.neural_models:Начинаем обучение mlp_fold_4 на cuda\n",
      "INFO:src.neural_models:Эпоха 10/50: train_loss=1.1986\n",
      "INFO:src.neural_models:Эпоха 20/50: train_loss=0.8481\n",
      "INFO:src.neural_models:Эпоха 30/50: train_loss=0.7099\n",
      "INFO:src.neural_models:Эпоха 40/50: train_loss=0.5796\n",
      "INFO:src.neural_models:Эпоха 50/50: train_loss=0.5449\n",
      "INFO:src.neural_models:Обучена модель mlp_fold_4 за 3.760 сек\n",
      "INFO:src.neural_models:Метрики для mlp_fold_4: MAE=0.8291, RMSE=1.0604, R²=0.3478\n",
      "INFO:src.cross_validation:Кросс-валидация завершена для 3 моделей\n",
      "INFO:__main__:\n",
      "=== РЕЗУЛЬТАТЫ НА ТЕСТОВОЙ ВЫБОРКЕ ===\n",
      "INFO:__main__:RandomForest   : MAE=0.7560, RMSE=0.9649, R²=0.4618, Время=1.24s\n",
      "INFO:__main__:XGBoost        : MAE=0.6934, RMSE=0.9083, R²=0.5231, Время=0.69s\n",
      "INFO:__main__:MLP            : MAE=0.8370, RMSE=1.0745, R²=0.3326, Время=4.76s\n",
      "INFO:__main__:CNN            : MAE=0.8694, RMSE=1.1147, R²=0.2817, Время=8.88s\n",
      "INFO:__main__:\n",
      "=== РЕЗУЛЬТАТЫ КРОСС-ВАЛИДАЦИИ (стабильность) ===\n",
      "INFO:__main__:random_forest  : MAE=0.7768±0.0190, R²=0.4460±0.0400\n",
      "INFO:__main__:xgboost        : MAE=0.7293±0.0269, R²=0.4862±0.0466\n",
      "INFO:__main__:mlp            : MAE=0.8371±0.0283, R²=0.3249±0.0455\n",
      "INFO:__main__:\n",
      "=== АНАЛИЗ СТАБИЛЬНОСТИ ===\n",
      "INFO:__main__:random_forest  : Индекс стабильности = 0.9814\n",
      "INFO:__main__:xgboost        : Индекс стабильности = 0.9738\n",
      "INFO:__main__:mlp            : Индекс стабильности = 0.9725\n",
      "INFO:__main__:\n",
      "=== АНАЛИЗ ПЕРЕОБУЧЕНИЯ ===\n",
      "INFO:__main__:RandomForest   : Переобучение не обнаружено (тест/CV: 0.973)\n",
      "INFO:__main__:XGBoost        : Переобучение не обнаружено (тест/CV: 0.951)\n"
     ]
    }
   ],
   "source": [
    "# === ОБОСНОВАНИЕ ВЫБОРА МОДЕЛЕЙ ===\n",
    "logger.info(\"=== ОБОСНОВАНИЕ ВЫБОРА МОДЕЛЕЙ ===\")\n",
    "logger.info(\"1. Random Forest - ensemble-метод, устойчивый к переобучению, хорошо работает с молекулярными дескрипторами\")\n",
    "logger.info(\"2. XGBoost/Gradient Boosting - современный градиентный бустинг с высокой точностью\")\n",
    "logger.info(\"3. MLP - полносвязная нейросеть для изучения нелинейных паттернов\")\n",
    "logger.info(\"4. CNN - сверточная сеть для обнаружения локальных паттернов в дескрипторах\")\n",
    "\n",
    "# === ОБУЧЕНИЕ МОДЕЛЕЙ И КРОСС-ВАЛИДАЦИЯ ===\n",
    "logger.info(\"\\n=== ЗАПУСК ПОЛНОГО ПАЙПЛАЙНА ОБУЧЕНИЯ МОДЕЛЕЙ ===\\n\")\n",
    "\n",
    "# 1. Классические ensemble-модели (Random Forest, XGBoost/LightGBM)\n",
    "logger.info(\"1. Обучение классических ensemble-моделей...\")\n",
    "classical_results = train_classical_models(X_train, y_train, X_test, y_test, random_state=42)\n",
    "\n",
    "# 2. Нейросетевые модели с увеличенным числом эпох для лучшего обучения\n",
    "logger.info(\"\\n2. Обучение нейросетевых моделей...\")\n",
    "neural_results = train_neural_models(X_train, y_train, X_test, y_test, epochs=50, random_state=42)\n",
    "\n",
    "# 3. Кросс-валидация для оценки стабильности\n",
    "logger.info(\"\\n3. Запуск кросс-валидации для анализа стабильности...\")\n",
    "cv_results = run_cross_validation(\n",
    "    X_train,\n",
    "    y_train,\n",
    "    model_types=[\"random_forest\", \"xgboost\", \"mlp\"],  # Выбираем основные модели для CV\n",
    "    cv_folds=5,\n",
    "    random_state=42,\n",
    ")\n",
    "\n",
    "# 4. Объединяем результаты\n",
    "all_results = {**classical_results, **neural_results}\n",
    "\n",
    "logger.info(\"\\n=== РЕЗУЛЬТАТЫ НА ТЕСТОВОЙ ВЫБОРКЕ ===\")\n",
    "for model_name, metrics in all_results.items():\n",
    "    logger.info(\n",
    "        f\"{model_name:15}: MAE={metrics['mae']:.4f}, RMSE={metrics['rmse']:.4f}, R²={metrics['r2']:.4f}, Время={metrics['training_time']:.2f}s\"\n",
    "    )\n",
    "\n",
    "logger.info(\"\\n=== РЕЗУЛЬТАТЫ КРОСС-ВАЛИДАЦИИ (стабильность) ===\")\n",
    "for model_name, cv_metrics in cv_results.items():\n",
    "    mae_mean = cv_metrics[\"mae_mean\"]\n",
    "    mae_std = cv_metrics[\"mae_std\"]\n",
    "    r2_mean = cv_metrics[\"r2_mean\"]\n",
    "    r2_std = cv_metrics[\"r2_std\"]\n",
    "    logger.info(f\"{model_name:15}: MAE={mae_mean:.4f}±{mae_std:.4f}, R²={r2_mean:.4f}±{r2_std:.4f}\")\n",
    "\n",
    "logger.info(\"\\n=== АНАЛИЗ СТАБИЛЬНОСТИ ===\")\n",
    "# Анализируем, какая модель наиболее стабильна\n",
    "for model_name, cv_metrics in cv_results.items():\n",
    "    stability_score = 1.0 / (1.0 + cv_metrics[\"mae_std\"])  # Чем меньше отклонение, тем выше стабильность\n",
    "    logger.info(f\"{model_name:15}: Индекс стабильности = {stability_score:.4f}\")\n",
    "\n",
    "logger.info(\"\\n=== АНАЛИЗ ПЕРЕОБУЧЕНИЯ ===\")\n",
    "# Сравниваем результаты на обучающей и тестовой выборках для выявления переобучения\n",
    "for model_name in [\"RandomForest\", \"XGBoost\"]:\n",
    "    if model_name in classical_results:\n",
    "        test_mae = classical_results[model_name][\"mae\"]\n",
    "        # Для анализа переобучения используем CV результаты как приближение к обучающей выборке\n",
    "        if model_name.lower() == \"randomforest\":\n",
    "            cv_mae = cv_results.get(\"random_forest\", {}).get(\"mae_mean\", test_mae)\n",
    "        elif model_name.lower() == \"xgboost\":\n",
    "            cv_mae = cv_results.get(\"xgboost\", {}).get(\"mae_mean\", test_mae)\n",
    "        else:\n",
    "            cv_mae = test_mae\n",
    "\n",
    "        overfitting_ratio = test_mae / max(cv_mae, 0.001)  # Избегаем деления на ноль\n",
    "        if overfitting_ratio > 1.1:\n",
    "            logger.info(f\"{model_name:15}: Возможно переобучение (тест/CV: {overfitting_ratio:.3f})\")\n",
    "        else:\n",
    "            logger.info(f\"{model_name:15}: Переобучение не обнаружено (тест/CV: {overfitting_ratio:.3f})\")"
   ]
  },
  {
   "cell_type": "code",
   "execution_count": 5,
   "metadata": {},
   "outputs": [
    {
     "name": "stderr",
     "output_type": "stream",
     "text": [
      "INFO:__main__:\n",
      "=== СОЗДАНИЕ ВИЗУАЛИЗАЦИЙ ===\n"
     ]
    },
    {
     "data": {
      "application/vnd.plotly.v1+json": {
       "config": {
        "plotlyServerURL": "https://plot.ly"
       },
       "data": [
        {
         "marker": {
          "color": "lightblue"
         },
         "name": "MAE",
         "type": "bar",
         "x": [
          "RandomForest",
          "XGBoost",
          "MLP",
          "CNN"
         ],
         "xaxis": "x",
         "y": [
          0.755974417762927,
          0.6934422478912026,
          0.8370157921702175,
          0.8693820943452021
         ],
         "yaxis": "y"
        },
        {
         "marker": {
          "color": "lightcoral"
         },
         "name": "RMSE",
         "type": "bar",
         "x": [
          "RandomForest",
          "XGBoost",
          "MLP",
          "CNN"
         ],
         "xaxis": "x2",
         "y": [
          0.964879006810602,
          0.9082878787926293,
          1.0744564347532213,
          1.1146638006431602
         ],
         "yaxis": "y2"
        },
        {
         "marker": {
          "color": "lightgreen"
         },
         "name": "R²",
         "type": "bar",
         "x": [
          "RandomForest",
          "XGBoost",
          "MLP",
          "CNN"
         ],
         "xaxis": "x3",
         "y": [
          0.4618078745726064,
          0.5230875486169162,
          0.3326260562091633,
          0.28174374126875124
         ],
         "yaxis": "y3"
        },
        {
         "marker": {
          "color": "lightyellow"
         },
         "name": "Время",
         "type": "bar",
         "x": [
          "RandomForest",
          "XGBoost",
          "MLP",
          "CNN"
         ],
         "xaxis": "x4",
         "y": [
          1.2432525157928467,
          0.6866445541381836,
          4.7575623989105225,
          8.876337051391602
         ],
         "yaxis": "y4"
        }
       ],
       "layout": {
        "annotations": [
         {
          "font": {
           "size": 16
          },
          "showarrow": false,
          "text": "MAE (ниже = лучше)",
          "x": 0.225,
          "xanchor": "center",
          "xref": "paper",
          "y": 1,
          "yanchor": "bottom",
          "yref": "paper"
         },
         {
          "font": {
           "size": 16
          },
          "showarrow": false,
          "text": "RMSE (ниже = лучше)",
          "x": 0.775,
          "xanchor": "center",
          "xref": "paper",
          "y": 1,
          "yanchor": "bottom",
          "yref": "paper"
         },
         {
          "font": {
           "size": 16
          },
          "showarrow": false,
          "text": "R² (выше = лучше)",
          "x": 0.225,
          "xanchor": "center",
          "xref": "paper",
          "y": 0.375,
          "yanchor": "bottom",
          "yref": "paper"
         },
         {
          "font": {
           "size": 16
          },
          "showarrow": false,
          "text": "Время обучения (сек)",
          "x": 0.775,
          "xanchor": "center",
          "xref": "paper",
          "y": 0.375,
          "yanchor": "bottom",
          "yref": "paper"
         }
        ],
        "height": 600,
        "showlegend": false,
        "template": {
         "data": {
          "bar": [
           {
            "error_x": {
             "color": "#2a3f5f"
            },
            "error_y": {
             "color": "#2a3f5f"
            },
            "marker": {
             "line": {
              "color": "#E5ECF6",
              "width": 0.5
             },
             "pattern": {
              "fillmode": "overlay",
              "size": 10,
              "solidity": 0.2
             }
            },
            "type": "bar"
           }
          ],
          "barpolar": [
           {
            "marker": {
             "line": {
              "color": "#E5ECF6",
              "width": 0.5
             },
             "pattern": {
              "fillmode": "overlay",
              "size": 10,
              "solidity": 0.2
             }
            },
            "type": "barpolar"
           }
          ],
          "carpet": [
           {
            "aaxis": {
             "endlinecolor": "#2a3f5f",
             "gridcolor": "white",
             "linecolor": "white",
             "minorgridcolor": "white",
             "startlinecolor": "#2a3f5f"
            },
            "baxis": {
             "endlinecolor": "#2a3f5f",
             "gridcolor": "white",
             "linecolor": "white",
             "minorgridcolor": "white",
             "startlinecolor": "#2a3f5f"
            },
            "type": "carpet"
           }
          ],
          "choropleth": [
           {
            "colorbar": {
             "outlinewidth": 0,
             "ticks": ""
            },
            "type": "choropleth"
           }
          ],
          "contour": [
           {
            "colorbar": {
             "outlinewidth": 0,
             "ticks": ""
            },
            "colorscale": [
             [
              0,
              "#0d0887"
             ],
             [
              0.1111111111111111,
              "#46039f"
             ],
             [
              0.2222222222222222,
              "#7201a8"
             ],
             [
              0.3333333333333333,
              "#9c179e"
             ],
             [
              0.4444444444444444,
              "#bd3786"
             ],
             [
              0.5555555555555556,
              "#d8576b"
             ],
             [
              0.6666666666666666,
              "#ed7953"
             ],
             [
              0.7777777777777778,
              "#fb9f3a"
             ],
             [
              0.8888888888888888,
              "#fdca26"
             ],
             [
              1,
              "#f0f921"
             ]
            ],
            "type": "contour"
           }
          ],
          "contourcarpet": [
           {
            "colorbar": {
             "outlinewidth": 0,
             "ticks": ""
            },
            "type": "contourcarpet"
           }
          ],
          "heatmap": [
           {
            "colorbar": {
             "outlinewidth": 0,
             "ticks": ""
            },
            "colorscale": [
             [
              0,
              "#0d0887"
             ],
             [
              0.1111111111111111,
              "#46039f"
             ],
             [
              0.2222222222222222,
              "#7201a8"
             ],
             [
              0.3333333333333333,
              "#9c179e"
             ],
             [
              0.4444444444444444,
              "#bd3786"
             ],
             [
              0.5555555555555556,
              "#d8576b"
             ],
             [
              0.6666666666666666,
              "#ed7953"
             ],
             [
              0.7777777777777778,
              "#fb9f3a"
             ],
             [
              0.8888888888888888,
              "#fdca26"
             ],
             [
              1,
              "#f0f921"
             ]
            ],
            "type": "heatmap"
           }
          ],
          "histogram": [
           {
            "marker": {
             "pattern": {
              "fillmode": "overlay",
              "size": 10,
              "solidity": 0.2
             }
            },
            "type": "histogram"
           }
          ],
          "histogram2d": [
           {
            "colorbar": {
             "outlinewidth": 0,
             "ticks": ""
            },
            "colorscale": [
             [
              0,
              "#0d0887"
             ],
             [
              0.1111111111111111,
              "#46039f"
             ],
             [
              0.2222222222222222,
              "#7201a8"
             ],
             [
              0.3333333333333333,
              "#9c179e"
             ],
             [
              0.4444444444444444,
              "#bd3786"
             ],
             [
              0.5555555555555556,
              "#d8576b"
             ],
             [
              0.6666666666666666,
              "#ed7953"
             ],
             [
              0.7777777777777778,
              "#fb9f3a"
             ],
             [
              0.8888888888888888,
              "#fdca26"
             ],
             [
              1,
              "#f0f921"
             ]
            ],
            "type": "histogram2d"
           }
          ],
          "histogram2dcontour": [
           {
            "colorbar": {
             "outlinewidth": 0,
             "ticks": ""
            },
            "colorscale": [
             [
              0,
              "#0d0887"
             ],
             [
              0.1111111111111111,
              "#46039f"
             ],
             [
              0.2222222222222222,
              "#7201a8"
             ],
             [
              0.3333333333333333,
              "#9c179e"
             ],
             [
              0.4444444444444444,
              "#bd3786"
             ],
             [
              0.5555555555555556,
              "#d8576b"
             ],
             [
              0.6666666666666666,
              "#ed7953"
             ],
             [
              0.7777777777777778,
              "#fb9f3a"
             ],
             [
              0.8888888888888888,
              "#fdca26"
             ],
             [
              1,
              "#f0f921"
             ]
            ],
            "type": "histogram2dcontour"
           }
          ],
          "mesh3d": [
           {
            "colorbar": {
             "outlinewidth": 0,
             "ticks": ""
            },
            "type": "mesh3d"
           }
          ],
          "parcoords": [
           {
            "line": {
             "colorbar": {
              "outlinewidth": 0,
              "ticks": ""
             }
            },
            "type": "parcoords"
           }
          ],
          "pie": [
           {
            "automargin": true,
            "type": "pie"
           }
          ],
          "scatter": [
           {
            "fillpattern": {
             "fillmode": "overlay",
             "size": 10,
             "solidity": 0.2
            },
            "type": "scatter"
           }
          ],
          "scatter3d": [
           {
            "line": {
             "colorbar": {
              "outlinewidth": 0,
              "ticks": ""
             }
            },
            "marker": {
             "colorbar": {
              "outlinewidth": 0,
              "ticks": ""
             }
            },
            "type": "scatter3d"
           }
          ],
          "scattercarpet": [
           {
            "marker": {
             "colorbar": {
              "outlinewidth": 0,
              "ticks": ""
             }
            },
            "type": "scattercarpet"
           }
          ],
          "scattergeo": [
           {
            "marker": {
             "colorbar": {
              "outlinewidth": 0,
              "ticks": ""
             }
            },
            "type": "scattergeo"
           }
          ],
          "scattergl": [
           {
            "marker": {
             "colorbar": {
              "outlinewidth": 0,
              "ticks": ""
             }
            },
            "type": "scattergl"
           }
          ],
          "scattermap": [
           {
            "marker": {
             "colorbar": {
              "outlinewidth": 0,
              "ticks": ""
             }
            },
            "type": "scattermap"
           }
          ],
          "scattermapbox": [
           {
            "marker": {
             "colorbar": {
              "outlinewidth": 0,
              "ticks": ""
             }
            },
            "type": "scattermapbox"
           }
          ],
          "scatterpolar": [
           {
            "marker": {
             "colorbar": {
              "outlinewidth": 0,
              "ticks": ""
             }
            },
            "type": "scatterpolar"
           }
          ],
          "scatterpolargl": [
           {
            "marker": {
             "colorbar": {
              "outlinewidth": 0,
              "ticks": ""
             }
            },
            "type": "scatterpolargl"
           }
          ],
          "scatterternary": [
           {
            "marker": {
             "colorbar": {
              "outlinewidth": 0,
              "ticks": ""
             }
            },
            "type": "scatterternary"
           }
          ],
          "surface": [
           {
            "colorbar": {
             "outlinewidth": 0,
             "ticks": ""
            },
            "colorscale": [
             [
              0,
              "#0d0887"
             ],
             [
              0.1111111111111111,
              "#46039f"
             ],
             [
              0.2222222222222222,
              "#7201a8"
             ],
             [
              0.3333333333333333,
              "#9c179e"
             ],
             [
              0.4444444444444444,
              "#bd3786"
             ],
             [
              0.5555555555555556,
              "#d8576b"
             ],
             [
              0.6666666666666666,
              "#ed7953"
             ],
             [
              0.7777777777777778,
              "#fb9f3a"
             ],
             [
              0.8888888888888888,
              "#fdca26"
             ],
             [
              1,
              "#f0f921"
             ]
            ],
            "type": "surface"
           }
          ],
          "table": [
           {
            "cells": {
             "fill": {
              "color": "#EBF0F8"
             },
             "line": {
              "color": "white"
             }
            },
            "header": {
             "fill": {
              "color": "#C8D4E3"
             },
             "line": {
              "color": "white"
             }
            },
            "type": "table"
           }
          ]
         },
         "layout": {
          "annotationdefaults": {
           "arrowcolor": "#2a3f5f",
           "arrowhead": 0,
           "arrowwidth": 1
          },
          "autotypenumbers": "strict",
          "coloraxis": {
           "colorbar": {
            "outlinewidth": 0,
            "ticks": ""
           }
          },
          "colorscale": {
           "diverging": [
            [
             0,
             "#8e0152"
            ],
            [
             0.1,
             "#c51b7d"
            ],
            [
             0.2,
             "#de77ae"
            ],
            [
             0.3,
             "#f1b6da"
            ],
            [
             0.4,
             "#fde0ef"
            ],
            [
             0.5,
             "#f7f7f7"
            ],
            [
             0.6,
             "#e6f5d0"
            ],
            [
             0.7,
             "#b8e186"
            ],
            [
             0.8,
             "#7fbc41"
            ],
            [
             0.9,
             "#4d9221"
            ],
            [
             1,
             "#276419"
            ]
           ],
           "sequential": [
            [
             0,
             "#0d0887"
            ],
            [
             0.1111111111111111,
             "#46039f"
            ],
            [
             0.2222222222222222,
             "#7201a8"
            ],
            [
             0.3333333333333333,
             "#9c179e"
            ],
            [
             0.4444444444444444,
             "#bd3786"
            ],
            [
             0.5555555555555556,
             "#d8576b"
            ],
            [
             0.6666666666666666,
             "#ed7953"
            ],
            [
             0.7777777777777778,
             "#fb9f3a"
            ],
            [
             0.8888888888888888,
             "#fdca26"
            ],
            [
             1,
             "#f0f921"
            ]
           ],
           "sequentialminus": [
            [
             0,
             "#0d0887"
            ],
            [
             0.1111111111111111,
             "#46039f"
            ],
            [
             0.2222222222222222,
             "#7201a8"
            ],
            [
             0.3333333333333333,
             "#9c179e"
            ],
            [
             0.4444444444444444,
             "#bd3786"
            ],
            [
             0.5555555555555556,
             "#d8576b"
            ],
            [
             0.6666666666666666,
             "#ed7953"
            ],
            [
             0.7777777777777778,
             "#fb9f3a"
            ],
            [
             0.8888888888888888,
             "#fdca26"
            ],
            [
             1,
             "#f0f921"
            ]
           ]
          },
          "colorway": [
           "#636efa",
           "#EF553B",
           "#00cc96",
           "#ab63fa",
           "#FFA15A",
           "#19d3f3",
           "#FF6692",
           "#B6E880",
           "#FF97FF",
           "#FECB52"
          ],
          "font": {
           "color": "#2a3f5f"
          },
          "geo": {
           "bgcolor": "white",
           "lakecolor": "white",
           "landcolor": "#E5ECF6",
           "showlakes": true,
           "showland": true,
           "subunitcolor": "white"
          },
          "hoverlabel": {
           "align": "left"
          },
          "hovermode": "closest",
          "mapbox": {
           "style": "light"
          },
          "paper_bgcolor": "white",
          "plot_bgcolor": "#E5ECF6",
          "polar": {
           "angularaxis": {
            "gridcolor": "white",
            "linecolor": "white",
            "ticks": ""
           },
           "bgcolor": "#E5ECF6",
           "radialaxis": {
            "gridcolor": "white",
            "linecolor": "white",
            "ticks": ""
           }
          },
          "scene": {
           "xaxis": {
            "backgroundcolor": "#E5ECF6",
            "gridcolor": "white",
            "gridwidth": 2,
            "linecolor": "white",
            "showbackground": true,
            "ticks": "",
            "zerolinecolor": "white"
           },
           "yaxis": {
            "backgroundcolor": "#E5ECF6",
            "gridcolor": "white",
            "gridwidth": 2,
            "linecolor": "white",
            "showbackground": true,
            "ticks": "",
            "zerolinecolor": "white"
           },
           "zaxis": {
            "backgroundcolor": "#E5ECF6",
            "gridcolor": "white",
            "gridwidth": 2,
            "linecolor": "white",
            "showbackground": true,
            "ticks": "",
            "zerolinecolor": "white"
           }
          },
          "shapedefaults": {
           "line": {
            "color": "#2a3f5f"
           }
          },
          "ternary": {
           "aaxis": {
            "gridcolor": "white",
            "linecolor": "white",
            "ticks": ""
           },
           "baxis": {
            "gridcolor": "white",
            "linecolor": "white",
            "ticks": ""
           },
           "bgcolor": "#E5ECF6",
           "caxis": {
            "gridcolor": "white",
            "linecolor": "white",
            "ticks": ""
           }
          },
          "title": {
           "x": 0.05
          },
          "xaxis": {
           "automargin": true,
           "gridcolor": "white",
           "linecolor": "white",
           "ticks": "",
           "title": {
            "standoff": 15
           },
           "zerolinecolor": "white",
           "zerolinewidth": 2
          },
          "yaxis": {
           "automargin": true,
           "gridcolor": "white",
           "linecolor": "white",
           "ticks": "",
           "title": {
            "standoff": 15
           },
           "zerolinecolor": "white",
           "zerolinewidth": 2
          }
         }
        },
        "title": {
         "text": "Сравнение производительности моделей"
        },
        "xaxis": {
         "anchor": "y",
         "domain": [
          0,
          0.45
         ]
        },
        "xaxis2": {
         "anchor": "y2",
         "domain": [
          0.55,
          1
         ]
        },
        "xaxis3": {
         "anchor": "y3",
         "domain": [
          0,
          0.45
         ]
        },
        "xaxis4": {
         "anchor": "y4",
         "domain": [
          0.55,
          1
         ]
        },
        "yaxis": {
         "anchor": "x",
         "domain": [
          0.625,
          1
         ]
        },
        "yaxis2": {
         "anchor": "x2",
         "domain": [
          0.625,
          1
         ]
        },
        "yaxis3": {
         "anchor": "x3",
         "domain": [
          0,
          0.375
         ]
        },
        "yaxis4": {
         "anchor": "x4",
         "domain": [
          0,
          0.375
         ]
        }
       }
      }
     },
     "metadata": {},
     "output_type": "display_data"
    },
    {
     "data": {
      "application/vnd.plotly.v1+json": {
       "config": {
        "plotlyServerURL": "https://plot.ly"
       },
       "data": [
        {
         "error_y": {
          "array": [
           0.018980959954463354,
           0.026929026823995724,
           0.028292594002615544
          ],
          "type": "data"
         },
         "marker": {
          "color": "orange"
         },
         "name": "MAE ± std",
         "type": "bar",
         "x": [
          "random_forest",
          "xgboost",
          "mlp"
         ],
         "y": [
          0.7767793216503791,
          0.7292540704739091,
          0.837092730890092
         ]
        }
       ],
       "layout": {
        "height": 400,
        "template": {
         "data": {
          "bar": [
           {
            "error_x": {
             "color": "#2a3f5f"
            },
            "error_y": {
             "color": "#2a3f5f"
            },
            "marker": {
             "line": {
              "color": "#E5ECF6",
              "width": 0.5
             },
             "pattern": {
              "fillmode": "overlay",
              "size": 10,
              "solidity": 0.2
             }
            },
            "type": "bar"
           }
          ],
          "barpolar": [
           {
            "marker": {
             "line": {
              "color": "#E5ECF6",
              "width": 0.5
             },
             "pattern": {
              "fillmode": "overlay",
              "size": 10,
              "solidity": 0.2
             }
            },
            "type": "barpolar"
           }
          ],
          "carpet": [
           {
            "aaxis": {
             "endlinecolor": "#2a3f5f",
             "gridcolor": "white",
             "linecolor": "white",
             "minorgridcolor": "white",
             "startlinecolor": "#2a3f5f"
            },
            "baxis": {
             "endlinecolor": "#2a3f5f",
             "gridcolor": "white",
             "linecolor": "white",
             "minorgridcolor": "white",
             "startlinecolor": "#2a3f5f"
            },
            "type": "carpet"
           }
          ],
          "choropleth": [
           {
            "colorbar": {
             "outlinewidth": 0,
             "ticks": ""
            },
            "type": "choropleth"
           }
          ],
          "contour": [
           {
            "colorbar": {
             "outlinewidth": 0,
             "ticks": ""
            },
            "colorscale": [
             [
              0,
              "#0d0887"
             ],
             [
              0.1111111111111111,
              "#46039f"
             ],
             [
              0.2222222222222222,
              "#7201a8"
             ],
             [
              0.3333333333333333,
              "#9c179e"
             ],
             [
              0.4444444444444444,
              "#bd3786"
             ],
             [
              0.5555555555555556,
              "#d8576b"
             ],
             [
              0.6666666666666666,
              "#ed7953"
             ],
             [
              0.7777777777777778,
              "#fb9f3a"
             ],
             [
              0.8888888888888888,
              "#fdca26"
             ],
             [
              1,
              "#f0f921"
             ]
            ],
            "type": "contour"
           }
          ],
          "contourcarpet": [
           {
            "colorbar": {
             "outlinewidth": 0,
             "ticks": ""
            },
            "type": "contourcarpet"
           }
          ],
          "heatmap": [
           {
            "colorbar": {
             "outlinewidth": 0,
             "ticks": ""
            },
            "colorscale": [
             [
              0,
              "#0d0887"
             ],
             [
              0.1111111111111111,
              "#46039f"
             ],
             [
              0.2222222222222222,
              "#7201a8"
             ],
             [
              0.3333333333333333,
              "#9c179e"
             ],
             [
              0.4444444444444444,
              "#bd3786"
             ],
             [
              0.5555555555555556,
              "#d8576b"
             ],
             [
              0.6666666666666666,
              "#ed7953"
             ],
             [
              0.7777777777777778,
              "#fb9f3a"
             ],
             [
              0.8888888888888888,
              "#fdca26"
             ],
             [
              1,
              "#f0f921"
             ]
            ],
            "type": "heatmap"
           }
          ],
          "histogram": [
           {
            "marker": {
             "pattern": {
              "fillmode": "overlay",
              "size": 10,
              "solidity": 0.2
             }
            },
            "type": "histogram"
           }
          ],
          "histogram2d": [
           {
            "colorbar": {
             "outlinewidth": 0,
             "ticks": ""
            },
            "colorscale": [
             [
              0,
              "#0d0887"
             ],
             [
              0.1111111111111111,
              "#46039f"
             ],
             [
              0.2222222222222222,
              "#7201a8"
             ],
             [
              0.3333333333333333,
              "#9c179e"
             ],
             [
              0.4444444444444444,
              "#bd3786"
             ],
             [
              0.5555555555555556,
              "#d8576b"
             ],
             [
              0.6666666666666666,
              "#ed7953"
             ],
             [
              0.7777777777777778,
              "#fb9f3a"
             ],
             [
              0.8888888888888888,
              "#fdca26"
             ],
             [
              1,
              "#f0f921"
             ]
            ],
            "type": "histogram2d"
           }
          ],
          "histogram2dcontour": [
           {
            "colorbar": {
             "outlinewidth": 0,
             "ticks": ""
            },
            "colorscale": [
             [
              0,
              "#0d0887"
             ],
             [
              0.1111111111111111,
              "#46039f"
             ],
             [
              0.2222222222222222,
              "#7201a8"
             ],
             [
              0.3333333333333333,
              "#9c179e"
             ],
             [
              0.4444444444444444,
              "#bd3786"
             ],
             [
              0.5555555555555556,
              "#d8576b"
             ],
             [
              0.6666666666666666,
              "#ed7953"
             ],
             [
              0.7777777777777778,
              "#fb9f3a"
             ],
             [
              0.8888888888888888,
              "#fdca26"
             ],
             [
              1,
              "#f0f921"
             ]
            ],
            "type": "histogram2dcontour"
           }
          ],
          "mesh3d": [
           {
            "colorbar": {
             "outlinewidth": 0,
             "ticks": ""
            },
            "type": "mesh3d"
           }
          ],
          "parcoords": [
           {
            "line": {
             "colorbar": {
              "outlinewidth": 0,
              "ticks": ""
             }
            },
            "type": "parcoords"
           }
          ],
          "pie": [
           {
            "automargin": true,
            "type": "pie"
           }
          ],
          "scatter": [
           {
            "fillpattern": {
             "fillmode": "overlay",
             "size": 10,
             "solidity": 0.2
            },
            "type": "scatter"
           }
          ],
          "scatter3d": [
           {
            "line": {
             "colorbar": {
              "outlinewidth": 0,
              "ticks": ""
             }
            },
            "marker": {
             "colorbar": {
              "outlinewidth": 0,
              "ticks": ""
             }
            },
            "type": "scatter3d"
           }
          ],
          "scattercarpet": [
           {
            "marker": {
             "colorbar": {
              "outlinewidth": 0,
              "ticks": ""
             }
            },
            "type": "scattercarpet"
           }
          ],
          "scattergeo": [
           {
            "marker": {
             "colorbar": {
              "outlinewidth": 0,
              "ticks": ""
             }
            },
            "type": "scattergeo"
           }
          ],
          "scattergl": [
           {
            "marker": {
             "colorbar": {
              "outlinewidth": 0,
              "ticks": ""
             }
            },
            "type": "scattergl"
           }
          ],
          "scattermap": [
           {
            "marker": {
             "colorbar": {
              "outlinewidth": 0,
              "ticks": ""
             }
            },
            "type": "scattermap"
           }
          ],
          "scattermapbox": [
           {
            "marker": {
             "colorbar": {
              "outlinewidth": 0,
              "ticks": ""
             }
            },
            "type": "scattermapbox"
           }
          ],
          "scatterpolar": [
           {
            "marker": {
             "colorbar": {
              "outlinewidth": 0,
              "ticks": ""
             }
            },
            "type": "scatterpolar"
           }
          ],
          "scatterpolargl": [
           {
            "marker": {
             "colorbar": {
              "outlinewidth": 0,
              "ticks": ""
             }
            },
            "type": "scatterpolargl"
           }
          ],
          "scatterternary": [
           {
            "marker": {
             "colorbar": {
              "outlinewidth": 0,
              "ticks": ""
             }
            },
            "type": "scatterternary"
           }
          ],
          "surface": [
           {
            "colorbar": {
             "outlinewidth": 0,
             "ticks": ""
            },
            "colorscale": [
             [
              0,
              "#0d0887"
             ],
             [
              0.1111111111111111,
              "#46039f"
             ],
             [
              0.2222222222222222,
              "#7201a8"
             ],
             [
              0.3333333333333333,
              "#9c179e"
             ],
             [
              0.4444444444444444,
              "#bd3786"
             ],
             [
              0.5555555555555556,
              "#d8576b"
             ],
             [
              0.6666666666666666,
              "#ed7953"
             ],
             [
              0.7777777777777778,
              "#fb9f3a"
             ],
             [
              0.8888888888888888,
              "#fdca26"
             ],
             [
              1,
              "#f0f921"
             ]
            ],
            "type": "surface"
           }
          ],
          "table": [
           {
            "cells": {
             "fill": {
              "color": "#EBF0F8"
             },
             "line": {
              "color": "white"
             }
            },
            "header": {
             "fill": {
              "color": "#C8D4E3"
             },
             "line": {
              "color": "white"
             }
            },
            "type": "table"
           }
          ]
         },
         "layout": {
          "annotationdefaults": {
           "arrowcolor": "#2a3f5f",
           "arrowhead": 0,
           "arrowwidth": 1
          },
          "autotypenumbers": "strict",
          "coloraxis": {
           "colorbar": {
            "outlinewidth": 0,
            "ticks": ""
           }
          },
          "colorscale": {
           "diverging": [
            [
             0,
             "#8e0152"
            ],
            [
             0.1,
             "#c51b7d"
            ],
            [
             0.2,
             "#de77ae"
            ],
            [
             0.3,
             "#f1b6da"
            ],
            [
             0.4,
             "#fde0ef"
            ],
            [
             0.5,
             "#f7f7f7"
            ],
            [
             0.6,
             "#e6f5d0"
            ],
            [
             0.7,
             "#b8e186"
            ],
            [
             0.8,
             "#7fbc41"
            ],
            [
             0.9,
             "#4d9221"
            ],
            [
             1,
             "#276419"
            ]
           ],
           "sequential": [
            [
             0,
             "#0d0887"
            ],
            [
             0.1111111111111111,
             "#46039f"
            ],
            [
             0.2222222222222222,
             "#7201a8"
            ],
            [
             0.3333333333333333,
             "#9c179e"
            ],
            [
             0.4444444444444444,
             "#bd3786"
            ],
            [
             0.5555555555555556,
             "#d8576b"
            ],
            [
             0.6666666666666666,
             "#ed7953"
            ],
            [
             0.7777777777777778,
             "#fb9f3a"
            ],
            [
             0.8888888888888888,
             "#fdca26"
            ],
            [
             1,
             "#f0f921"
            ]
           ],
           "sequentialminus": [
            [
             0,
             "#0d0887"
            ],
            [
             0.1111111111111111,
             "#46039f"
            ],
            [
             0.2222222222222222,
             "#7201a8"
            ],
            [
             0.3333333333333333,
             "#9c179e"
            ],
            [
             0.4444444444444444,
             "#bd3786"
            ],
            [
             0.5555555555555556,
             "#d8576b"
            ],
            [
             0.6666666666666666,
             "#ed7953"
            ],
            [
             0.7777777777777778,
             "#fb9f3a"
            ],
            [
             0.8888888888888888,
             "#fdca26"
            ],
            [
             1,
             "#f0f921"
            ]
           ]
          },
          "colorway": [
           "#636efa",
           "#EF553B",
           "#00cc96",
           "#ab63fa",
           "#FFA15A",
           "#19d3f3",
           "#FF6692",
           "#B6E880",
           "#FF97FF",
           "#FECB52"
          ],
          "font": {
           "color": "#2a3f5f"
          },
          "geo": {
           "bgcolor": "white",
           "lakecolor": "white",
           "landcolor": "#E5ECF6",
           "showlakes": true,
           "showland": true,
           "subunitcolor": "white"
          },
          "hoverlabel": {
           "align": "left"
          },
          "hovermode": "closest",
          "mapbox": {
           "style": "light"
          },
          "paper_bgcolor": "white",
          "plot_bgcolor": "#E5ECF6",
          "polar": {
           "angularaxis": {
            "gridcolor": "white",
            "linecolor": "white",
            "ticks": ""
           },
           "bgcolor": "#E5ECF6",
           "radialaxis": {
            "gridcolor": "white",
            "linecolor": "white",
            "ticks": ""
           }
          },
          "scene": {
           "xaxis": {
            "backgroundcolor": "#E5ECF6",
            "gridcolor": "white",
            "gridwidth": 2,
            "linecolor": "white",
            "showbackground": true,
            "ticks": "",
            "zerolinecolor": "white"
           },
           "yaxis": {
            "backgroundcolor": "#E5ECF6",
            "gridcolor": "white",
            "gridwidth": 2,
            "linecolor": "white",
            "showbackground": true,
            "ticks": "",
            "zerolinecolor": "white"
           },
           "zaxis": {
            "backgroundcolor": "#E5ECF6",
            "gridcolor": "white",
            "gridwidth": 2,
            "linecolor": "white",
            "showbackground": true,
            "ticks": "",
            "zerolinecolor": "white"
           }
          },
          "shapedefaults": {
           "line": {
            "color": "#2a3f5f"
           }
          },
          "ternary": {
           "aaxis": {
            "gridcolor": "white",
            "linecolor": "white",
            "ticks": ""
           },
           "baxis": {
            "gridcolor": "white",
            "linecolor": "white",
            "ticks": ""
           },
           "bgcolor": "#E5ECF6",
           "caxis": {
            "gridcolor": "white",
            "linecolor": "white",
            "ticks": ""
           }
          },
          "title": {
           "x": 0.05
          },
          "xaxis": {
           "automargin": true,
           "gridcolor": "white",
           "linecolor": "white",
           "ticks": "",
           "title": {
            "standoff": 15
           },
           "zerolinecolor": "white",
           "zerolinewidth": 2
          },
          "yaxis": {
           "automargin": true,
           "gridcolor": "white",
           "linecolor": "white",
           "ticks": "",
           "title": {
            "standoff": 15
           },
           "zerolinecolor": "white",
           "zerolinewidth": 2
          }
         }
        },
        "title": {
         "text": "Стабильность моделей (Кросс-валидация)"
        },
        "xaxis": {
         "title": {
          "text": "Модель"
         }
        },
        "yaxis": {
         "title": {
          "text": "MAE ± стандартное отклонение"
         }
        }
       }
      }
     },
     "metadata": {},
     "output_type": "display_data"
    },
    {
     "name": "stderr",
     "output_type": "stream",
     "text": [
      "INFO:__main__:\n",
      "=== АНАЛИЗ ИНТЕРПРЕТИРУЕМОСТИ ===\n",
      "INFO:src.classical_models:Обучена модель RandomForest (n_estimators=100, max_depth=None) за 1.727 сек\n"
     ]
    },
    {
     "data": {
      "application/vnd.plotly.v1+json": {
       "config": {
        "plotlyServerURL": "https://plot.ly"
       },
       "data": [
        {
         "marker": {
          "color": "purple"
         },
         "orientation": "h",
         "type": "bar",
         "x": [
          0.07325270201514485,
          0.02553935302359977,
          0.019155109182870448,
          0.01881529745015641,
          0.015839054760241802,
          0.01576264825616726,
          0.01368729258022656,
          0.01131395376202995,
          0.010156301101329137,
          0.008457331720496142,
          0.008432182007201508,
          0.008135042589635495,
          0.008016115811323395,
          0.007984672220783287,
          0.007481686816015549,
          0.007460636912649858,
          0.007322674815870502,
          0.0067205193129218,
          0.006559931673663688,
          0.006408922072193834
         ],
         "y": [
          "padel_SpMax2_Bhm",
          "rdkit_PEOE_VSA2",
          "mordred_BCUTZ-1l",
          "rdkit_TPSA",
          "padel_BCUTp-1h",
          "rdkit_SMR_VSA3",
          "padel_SCH-6",
          "padel_ALogP",
          "rdkit_PEOE_VSA12",
          "rdkit_SlogP_VSA1",
          "rdkit_FpDensityMorgan1",
          "padel_MATS1c",
          "padel_ATSC4i",
          "mordred_ATSC5s",
          "rdkit_MaxPartialCharge",
          "padel_SpMax2_Bhv",
          "rdkit_SlogP_VSA8",
          "mordred_ATSC4d",
          "rdkit_BCUT2D_CHGHI",
          "padel_VR1_DzZ"
         ]
        }
       ],
       "layout": {
        "height": 600,
        "template": {
         "data": {
          "bar": [
           {
            "error_x": {
             "color": "#2a3f5f"
            },
            "error_y": {
             "color": "#2a3f5f"
            },
            "marker": {
             "line": {
              "color": "#E5ECF6",
              "width": 0.5
             },
             "pattern": {
              "fillmode": "overlay",
              "size": 10,
              "solidity": 0.2
             }
            },
            "type": "bar"
           }
          ],
          "barpolar": [
           {
            "marker": {
             "line": {
              "color": "#E5ECF6",
              "width": 0.5
             },
             "pattern": {
              "fillmode": "overlay",
              "size": 10,
              "solidity": 0.2
             }
            },
            "type": "barpolar"
           }
          ],
          "carpet": [
           {
            "aaxis": {
             "endlinecolor": "#2a3f5f",
             "gridcolor": "white",
             "linecolor": "white",
             "minorgridcolor": "white",
             "startlinecolor": "#2a3f5f"
            },
            "baxis": {
             "endlinecolor": "#2a3f5f",
             "gridcolor": "white",
             "linecolor": "white",
             "minorgridcolor": "white",
             "startlinecolor": "#2a3f5f"
            },
            "type": "carpet"
           }
          ],
          "choropleth": [
           {
            "colorbar": {
             "outlinewidth": 0,
             "ticks": ""
            },
            "type": "choropleth"
           }
          ],
          "contour": [
           {
            "colorbar": {
             "outlinewidth": 0,
             "ticks": ""
            },
            "colorscale": [
             [
              0,
              "#0d0887"
             ],
             [
              0.1111111111111111,
              "#46039f"
             ],
             [
              0.2222222222222222,
              "#7201a8"
             ],
             [
              0.3333333333333333,
              "#9c179e"
             ],
             [
              0.4444444444444444,
              "#bd3786"
             ],
             [
              0.5555555555555556,
              "#d8576b"
             ],
             [
              0.6666666666666666,
              "#ed7953"
             ],
             [
              0.7777777777777778,
              "#fb9f3a"
             ],
             [
              0.8888888888888888,
              "#fdca26"
             ],
             [
              1,
              "#f0f921"
             ]
            ],
            "type": "contour"
           }
          ],
          "contourcarpet": [
           {
            "colorbar": {
             "outlinewidth": 0,
             "ticks": ""
            },
            "type": "contourcarpet"
           }
          ],
          "heatmap": [
           {
            "colorbar": {
             "outlinewidth": 0,
             "ticks": ""
            },
            "colorscale": [
             [
              0,
              "#0d0887"
             ],
             [
              0.1111111111111111,
              "#46039f"
             ],
             [
              0.2222222222222222,
              "#7201a8"
             ],
             [
              0.3333333333333333,
              "#9c179e"
             ],
             [
              0.4444444444444444,
              "#bd3786"
             ],
             [
              0.5555555555555556,
              "#d8576b"
             ],
             [
              0.6666666666666666,
              "#ed7953"
             ],
             [
              0.7777777777777778,
              "#fb9f3a"
             ],
             [
              0.8888888888888888,
              "#fdca26"
             ],
             [
              1,
              "#f0f921"
             ]
            ],
            "type": "heatmap"
           }
          ],
          "histogram": [
           {
            "marker": {
             "pattern": {
              "fillmode": "overlay",
              "size": 10,
              "solidity": 0.2
             }
            },
            "type": "histogram"
           }
          ],
          "histogram2d": [
           {
            "colorbar": {
             "outlinewidth": 0,
             "ticks": ""
            },
            "colorscale": [
             [
              0,
              "#0d0887"
             ],
             [
              0.1111111111111111,
              "#46039f"
             ],
             [
              0.2222222222222222,
              "#7201a8"
             ],
             [
              0.3333333333333333,
              "#9c179e"
             ],
             [
              0.4444444444444444,
              "#bd3786"
             ],
             [
              0.5555555555555556,
              "#d8576b"
             ],
             [
              0.6666666666666666,
              "#ed7953"
             ],
             [
              0.7777777777777778,
              "#fb9f3a"
             ],
             [
              0.8888888888888888,
              "#fdca26"
             ],
             [
              1,
              "#f0f921"
             ]
            ],
            "type": "histogram2d"
           }
          ],
          "histogram2dcontour": [
           {
            "colorbar": {
             "outlinewidth": 0,
             "ticks": ""
            },
            "colorscale": [
             [
              0,
              "#0d0887"
             ],
             [
              0.1111111111111111,
              "#46039f"
             ],
             [
              0.2222222222222222,
              "#7201a8"
             ],
             [
              0.3333333333333333,
              "#9c179e"
             ],
             [
              0.4444444444444444,
              "#bd3786"
             ],
             [
              0.5555555555555556,
              "#d8576b"
             ],
             [
              0.6666666666666666,
              "#ed7953"
             ],
             [
              0.7777777777777778,
              "#fb9f3a"
             ],
             [
              0.8888888888888888,
              "#fdca26"
             ],
             [
              1,
              "#f0f921"
             ]
            ],
            "type": "histogram2dcontour"
           }
          ],
          "mesh3d": [
           {
            "colorbar": {
             "outlinewidth": 0,
             "ticks": ""
            },
            "type": "mesh3d"
           }
          ],
          "parcoords": [
           {
            "line": {
             "colorbar": {
              "outlinewidth": 0,
              "ticks": ""
             }
            },
            "type": "parcoords"
           }
          ],
          "pie": [
           {
            "automargin": true,
            "type": "pie"
           }
          ],
          "scatter": [
           {
            "fillpattern": {
             "fillmode": "overlay",
             "size": 10,
             "solidity": 0.2
            },
            "type": "scatter"
           }
          ],
          "scatter3d": [
           {
            "line": {
             "colorbar": {
              "outlinewidth": 0,
              "ticks": ""
             }
            },
            "marker": {
             "colorbar": {
              "outlinewidth": 0,
              "ticks": ""
             }
            },
            "type": "scatter3d"
           }
          ],
          "scattercarpet": [
           {
            "marker": {
             "colorbar": {
              "outlinewidth": 0,
              "ticks": ""
             }
            },
            "type": "scattercarpet"
           }
          ],
          "scattergeo": [
           {
            "marker": {
             "colorbar": {
              "outlinewidth": 0,
              "ticks": ""
             }
            },
            "type": "scattergeo"
           }
          ],
          "scattergl": [
           {
            "marker": {
             "colorbar": {
              "outlinewidth": 0,
              "ticks": ""
             }
            },
            "type": "scattergl"
           }
          ],
          "scattermap": [
           {
            "marker": {
             "colorbar": {
              "outlinewidth": 0,
              "ticks": ""
             }
            },
            "type": "scattermap"
           }
          ],
          "scattermapbox": [
           {
            "marker": {
             "colorbar": {
              "outlinewidth": 0,
              "ticks": ""
             }
            },
            "type": "scattermapbox"
           }
          ],
          "scatterpolar": [
           {
            "marker": {
             "colorbar": {
              "outlinewidth": 0,
              "ticks": ""
             }
            },
            "type": "scatterpolar"
           }
          ],
          "scatterpolargl": [
           {
            "marker": {
             "colorbar": {
              "outlinewidth": 0,
              "ticks": ""
             }
            },
            "type": "scatterpolargl"
           }
          ],
          "scatterternary": [
           {
            "marker": {
             "colorbar": {
              "outlinewidth": 0,
              "ticks": ""
             }
            },
            "type": "scatterternary"
           }
          ],
          "surface": [
           {
            "colorbar": {
             "outlinewidth": 0,
             "ticks": ""
            },
            "colorscale": [
             [
              0,
              "#0d0887"
             ],
             [
              0.1111111111111111,
              "#46039f"
             ],
             [
              0.2222222222222222,
              "#7201a8"
             ],
             [
              0.3333333333333333,
              "#9c179e"
             ],
             [
              0.4444444444444444,
              "#bd3786"
             ],
             [
              0.5555555555555556,
              "#d8576b"
             ],
             [
              0.6666666666666666,
              "#ed7953"
             ],
             [
              0.7777777777777778,
              "#fb9f3a"
             ],
             [
              0.8888888888888888,
              "#fdca26"
             ],
             [
              1,
              "#f0f921"
             ]
            ],
            "type": "surface"
           }
          ],
          "table": [
           {
            "cells": {
             "fill": {
              "color": "#EBF0F8"
             },
             "line": {
              "color": "white"
             }
            },
            "header": {
             "fill": {
              "color": "#C8D4E3"
             },
             "line": {
              "color": "white"
             }
            },
            "type": "table"
           }
          ]
         },
         "layout": {
          "annotationdefaults": {
           "arrowcolor": "#2a3f5f",
           "arrowhead": 0,
           "arrowwidth": 1
          },
          "autotypenumbers": "strict",
          "coloraxis": {
           "colorbar": {
            "outlinewidth": 0,
            "ticks": ""
           }
          },
          "colorscale": {
           "diverging": [
            [
             0,
             "#8e0152"
            ],
            [
             0.1,
             "#c51b7d"
            ],
            [
             0.2,
             "#de77ae"
            ],
            [
             0.3,
             "#f1b6da"
            ],
            [
             0.4,
             "#fde0ef"
            ],
            [
             0.5,
             "#f7f7f7"
            ],
            [
             0.6,
             "#e6f5d0"
            ],
            [
             0.7,
             "#b8e186"
            ],
            [
             0.8,
             "#7fbc41"
            ],
            [
             0.9,
             "#4d9221"
            ],
            [
             1,
             "#276419"
            ]
           ],
           "sequential": [
            [
             0,
             "#0d0887"
            ],
            [
             0.1111111111111111,
             "#46039f"
            ],
            [
             0.2222222222222222,
             "#7201a8"
            ],
            [
             0.3333333333333333,
             "#9c179e"
            ],
            [
             0.4444444444444444,
             "#bd3786"
            ],
            [
             0.5555555555555556,
             "#d8576b"
            ],
            [
             0.6666666666666666,
             "#ed7953"
            ],
            [
             0.7777777777777778,
             "#fb9f3a"
            ],
            [
             0.8888888888888888,
             "#fdca26"
            ],
            [
             1,
             "#f0f921"
            ]
           ],
           "sequentialminus": [
            [
             0,
             "#0d0887"
            ],
            [
             0.1111111111111111,
             "#46039f"
            ],
            [
             0.2222222222222222,
             "#7201a8"
            ],
            [
             0.3333333333333333,
             "#9c179e"
            ],
            [
             0.4444444444444444,
             "#bd3786"
            ],
            [
             0.5555555555555556,
             "#d8576b"
            ],
            [
             0.6666666666666666,
             "#ed7953"
            ],
            [
             0.7777777777777778,
             "#fb9f3a"
            ],
            [
             0.8888888888888888,
             "#fdca26"
            ],
            [
             1,
             "#f0f921"
            ]
           ]
          },
          "colorway": [
           "#636efa",
           "#EF553B",
           "#00cc96",
           "#ab63fa",
           "#FFA15A",
           "#19d3f3",
           "#FF6692",
           "#B6E880",
           "#FF97FF",
           "#FECB52"
          ],
          "font": {
           "color": "#2a3f5f"
          },
          "geo": {
           "bgcolor": "white",
           "lakecolor": "white",
           "landcolor": "#E5ECF6",
           "showlakes": true,
           "showland": true,
           "subunitcolor": "white"
          },
          "hoverlabel": {
           "align": "left"
          },
          "hovermode": "closest",
          "mapbox": {
           "style": "light"
          },
          "paper_bgcolor": "white",
          "plot_bgcolor": "#E5ECF6",
          "polar": {
           "angularaxis": {
            "gridcolor": "white",
            "linecolor": "white",
            "ticks": ""
           },
           "bgcolor": "#E5ECF6",
           "radialaxis": {
            "gridcolor": "white",
            "linecolor": "white",
            "ticks": ""
           }
          },
          "scene": {
           "xaxis": {
            "backgroundcolor": "#E5ECF6",
            "gridcolor": "white",
            "gridwidth": 2,
            "linecolor": "white",
            "showbackground": true,
            "ticks": "",
            "zerolinecolor": "white"
           },
           "yaxis": {
            "backgroundcolor": "#E5ECF6",
            "gridcolor": "white",
            "gridwidth": 2,
            "linecolor": "white",
            "showbackground": true,
            "ticks": "",
            "zerolinecolor": "white"
           },
           "zaxis": {
            "backgroundcolor": "#E5ECF6",
            "gridcolor": "white",
            "gridwidth": 2,
            "linecolor": "white",
            "showbackground": true,
            "ticks": "",
            "zerolinecolor": "white"
           }
          },
          "shapedefaults": {
           "line": {
            "color": "#2a3f5f"
           }
          },
          "ternary": {
           "aaxis": {
            "gridcolor": "white",
            "linecolor": "white",
            "ticks": ""
           },
           "baxis": {
            "gridcolor": "white",
            "linecolor": "white",
            "ticks": ""
           },
           "bgcolor": "#E5ECF6",
           "caxis": {
            "gridcolor": "white",
            "linecolor": "white",
            "ticks": ""
           }
          },
          "title": {
           "x": 0.05
          },
          "xaxis": {
           "automargin": true,
           "gridcolor": "white",
           "linecolor": "white",
           "ticks": "",
           "title": {
            "standoff": 15
           },
           "zerolinecolor": "white",
           "zerolinewidth": 2
          },
          "yaxis": {
           "automargin": true,
           "gridcolor": "white",
           "linecolor": "white",
           "ticks": "",
           "title": {
            "standoff": 15
           },
           "zerolinecolor": "white",
           "zerolinewidth": 2
          }
         }
        },
        "title": {
         "text": "Топ-20 наиболее важных признаков (Random Forest)"
        },
        "xaxis": {
         "title": {
          "text": "Важность признака"
         }
        },
        "yaxis": {
         "title": {
          "text": "Название признака"
         }
        }
       }
      }
     },
     "metadata": {},
     "output_type": "display_data"
    },
    {
     "name": "stderr",
     "output_type": "stream",
     "text": [
      "INFO:__main__:Наиболее важные признаки: padel_SpMax2_Bhm, rdkit_PEOE_VSA2, mordred_BCUTZ-1l, rdkit_TPSA, padel_BCUTp-1h\n",
      "INFO:__main__:\n",
      "=== АНАЛИЗ ЧУВСТВИТЕЛЬНОСТИ К ДЕСКРИПТОРАМ ===\n",
      "INFO:__main__:Распределение типов дескрипторов в датасете:\n",
      "INFO:__main__:  Morgan: 398 признаков (59.1%)\n",
      "INFO:__main__:  Rdkit: 46 признаков (6.8%)\n",
      "INFO:__main__:  Fingerprint: 1 признаков (0.1%)\n",
      "INFO:__main__:  Mordred: 91 признаков (13.5%)\n",
      "INFO:__main__:  Other: 138 признаков (20.5%)\n",
      "INFO:__main__:\n",
      "=== ВЫВОДЫ И РЕКОМЕНДАЦИИ ===\n",
      "INFO:__main__:Лучшая модель по R²: XGBoost (R² = 0.5231)\n",
      "INFO:__main__:Самая быстрая модель: XGBoost (время = 0.687 сек)\n",
      "INFO:__main__:\n",
      "Соотношение качество/скорость:\n",
      "INFO:__main__:  RandomForest   : Эффективность = 0.3715 (R²/сек)\n",
      "INFO:__main__:  XGBoost        : Эффективность = 0.7618 (R²/сек)\n",
      "INFO:__main__:  MLP            : Эффективность = 0.0699 (R²/сек)\n",
      "INFO:__main__:  CNN            : Эффективность = 0.0317 (R²/сек)\n",
      "INFO:__main__:\n",
      "Рекомендации:\n",
      "INFO:__main__:1. Для максимальной точности используйте лучшую модель по R²\n",
      "INFO:__main__:2. Для быстрого прототипирования используйте самую быструю модель\n",
      "INFO:__main__:3. Для продакшена рассмотрите компромисс между качеством и скоростью\n",
      "INFO:__main__:4. Проведите дополнительную настройку гиперпараметров для улучшения результатов\n"
     ]
    }
   ],
   "source": [
    "# === ВИЗУАЛИЗАЦИЯ И ДЕТАЛЬНЫЙ АНАЛИЗ РЕЗУЛЬТАТОВ ===\n",
    "import json\n",
    "\n",
    "import plotly.graph_objects as go\n",
    "from plotly.subplots import make_subplots\n",
    "\n",
    "logger.info(\"\\n=== СОЗДАНИЕ ВИЗУАЛИЗАЦИЙ ===\")\n",
    "\n",
    "# 1. Сравнение метрик моделей - барный график\n",
    "model_names = list(all_results.keys())\n",
    "mae_values = [all_results[name][\"mae\"] for name in model_names]\n",
    "rmse_values = [all_results[name][\"rmse\"] for name in model_names]\n",
    "r2_values = [all_results[name][\"r2\"] for name in model_names]\n",
    "training_times = [all_results[name][\"training_time\"] for name in model_names]\n",
    "\n",
    "# Создаем subplot с несколькими графиками\n",
    "fig_metrics = make_subplots(\n",
    "    rows=2,\n",
    "    cols=2,\n",
    "    subplot_titles=(\"MAE (ниже = лучше)\", \"RMSE (ниже = лучше)\", \"R² (выше = лучше)\", \"Время обучения (сек)\"),\n",
    "    specs=[[{\"secondary_y\": False}, {\"secondary_y\": False}], [{\"secondary_y\": False}, {\"secondary_y\": False}]],\n",
    ")\n",
    "\n",
    "# MAE\n",
    "fig_metrics.add_trace(go.Bar(x=model_names, y=mae_values, name=\"MAE\", marker_color=\"lightblue\"), row=1, col=1)\n",
    "\n",
    "# RMSE\n",
    "fig_metrics.add_trace(go.Bar(x=model_names, y=rmse_values, name=\"RMSE\", marker_color=\"lightcoral\"), row=1, col=2)\n",
    "\n",
    "# R²\n",
    "fig_metrics.add_trace(go.Bar(x=model_names, y=r2_values, name=\"R²\", marker_color=\"lightgreen\"), row=2, col=1)\n",
    "\n",
    "# Время обучения\n",
    "fig_metrics.add_trace(go.Bar(x=model_names, y=training_times, name=\"Время\", marker_color=\"lightyellow\"), row=2, col=2)\n",
    "\n",
    "fig_metrics.update_layout(title_text=\"Сравнение производительности моделей\", showlegend=False, height=600)\n",
    "\n",
    "fig_metrics.show()\n",
    "\n",
    "# 2. Анализ стабильности (если есть результаты CV)\n",
    "if cv_results:\n",
    "    cv_model_names = list(cv_results.keys())\n",
    "    cv_mae_means = [cv_results[name][\"mae_mean\"] for name in cv_model_names]\n",
    "    cv_mae_stds = [cv_results[name][\"mae_std\"] for name in cv_model_names]\n",
    "    cv_r2_means = [cv_results[name][\"r2_mean\"] for name in cv_model_names]\n",
    "    cv_r2_stds = [cv_results[name][\"r2_std\"] for name in cv_model_names]\n",
    "\n",
    "    # График стабильности\n",
    "    fig_stability = go.Figure()\n",
    "\n",
    "    # MAE с error bars\n",
    "    fig_stability.add_trace(\n",
    "        go.Bar(\n",
    "            x=cv_model_names,\n",
    "            y=cv_mae_means,\n",
    "            error_y={\"type\": \"data\", \"array\": cv_mae_stds},\n",
    "            name=\"MAE ± std\",\n",
    "            marker_color=\"orange\",\n",
    "        )\n",
    "    )\n",
    "\n",
    "    fig_stability.update_layout(\n",
    "        title=\"Стабильность моделей (Кросс-валидация)\",\n",
    "        xaxis_title=\"Модель\",\n",
    "        yaxis_title=\"MAE ± стандартное отклонение\",\n",
    "        height=400,\n",
    "    )\n",
    "\n",
    "    fig_stability.show()\n",
    "\n",
    "# 3. Интерпретируемость моделей (оценка важности признаков для Random Forest)\n",
    "logger.info(\"\\n=== АНАЛИЗ ИНТЕРПРЕТИРУЕМОСТИ ===\")\n",
    "\n",
    "# Получаем важность признаков для Random Forest\n",
    "from src.classical_models import ClassicalModels\n",
    "\n",
    "models_handler = ClassicalModels(random_state=42)\n",
    "models_handler.train_random_forest(X_train, y_train, n_estimators=100)\n",
    "\n",
    "# Получаем модель Random Forest\n",
    "rf_model = models_handler.models[\"RandomForest\"][\"model\"]\n",
    "feature_importance = rf_model.feature_importances_\n",
    "feature_names = X_train.columns\n",
    "\n",
    "# Топ-20 наиболее важных признаков\n",
    "top_indices = feature_importance.argsort()[-20:][::-1]\n",
    "top_features = [feature_names[i] for i in top_indices]\n",
    "top_importance = [feature_importance[i] for i in top_indices]\n",
    "\n",
    "# График важности признаков\n",
    "fig_importance = go.Figure(go.Bar(x=top_importance, y=top_features, orientation=\"h\", marker_color=\"purple\"))\n",
    "\n",
    "fig_importance.update_layout(\n",
    "    title=\"Топ-20 наиболее важных признаков (Random Forest)\",\n",
    "    xaxis_title=\"Важность признака\",\n",
    "    yaxis_title=\"Название признака\",\n",
    "    height=600,\n",
    ")\n",
    "\n",
    "fig_importance.show()\n",
    "\n",
    "logger.info(f\"Наиболее важные признаки: {', '.join(top_features[:5])}\")\n",
    "\n",
    "# 4. Анализ чувствительности к дескрипторам\n",
    "logger.info(\"\\n=== АНАЛИЗ ЧУВСТВИТЕЛЬНОСТИ К ДЕСКРИПТОРАМ ===\")\n",
    "\n",
    "# Создаем краткий анализ типов дескрипторов\n",
    "descriptor_types = {\n",
    "    \"morgan\": sum(1 for col in feature_names if \"morgan\" in col.lower()),\n",
    "    \"rdkit\": sum(1 for col in feature_names if \"rdkit\" in col.lower() and \"morgan\" not in col.lower()),\n",
    "    \"fingerprint\": sum(1 for col in feature_names if \"fp\" in col.lower() or \"fingerprint\" in col.lower()),\n",
    "    \"mordred\": sum(1 for col in feature_names if \"mordred\" in col.lower()),\n",
    "    \"other\": len(feature_names),\n",
    "}\n",
    "\n",
    "# Пересчитываем 'other' как остаток\n",
    "descriptor_types[\"other\"] = len(feature_names) - sum(v for k, v in descriptor_types.items() if k != \"other\")\n",
    "\n",
    "logger.info(\"Распределение типов дескрипторов в датасете:\")\n",
    "for desc_type, count in descriptor_types.items():\n",
    "    if count > 0:\n",
    "        logger.info(f\"  {desc_type.capitalize()}: {count} признаков ({count / len(feature_names) * 100:.1f}%)\")\n",
    "\n",
    "# 5. Выводы и рекомендации\n",
    "logger.info(\"\\n=== ВЫВОДЫ И РЕКОМЕНДАЦИИ ===\")\n",
    "\n",
    "# Находим лучшую модель по R²\n",
    "best_model_name = max(all_results.keys(), key=lambda x: all_results[x][\"r2\"])\n",
    "best_r2 = all_results[best_model_name][\"r2\"]\n",
    "\n",
    "logger.info(f\"Лучшая модель по R²: {best_model_name} (R² = {best_r2:.4f})\")\n",
    "\n",
    "# Находим самую быструю модель\n",
    "fastest_model_name = min(all_results.keys(), key=lambda x: all_results[x][\"training_time\"])\n",
    "fastest_time = all_results[fastest_model_name][\"training_time\"]\n",
    "\n",
    "logger.info(f\"Самая быстрая модель: {fastest_model_name} (время = {fastest_time:.3f} сек)\")\n",
    "\n",
    "# Анализ соотношения качество/скорость\n",
    "logger.info(\"\\nСоотношение качество/скорость:\")\n",
    "for model_name in all_results:\n",
    "    r2 = all_results[model_name][\"r2\"]\n",
    "    time = all_results[model_name][\"training_time\"]\n",
    "    efficiency = r2 / max(time, 0.001)  # R² на секунду\n",
    "    logger.info(f\"  {model_name:15}: Эффективность = {efficiency:.4f} (R²/сек)\")\n",
    "\n",
    "logger.info(\"\\nРекомендации:\")\n",
    "logger.info(\"1. Для максимальной точности используйте лучшую модель по R²\")\n",
    "logger.info(\"2. Для быстрого прототипирования используйте самую быструю модель\")\n",
    "logger.info(\"3. Для продакшена рассмотрите компромисс между качеством и скоростью\")\n",
    "logger.info(\"4. Проведите дополнительную настройку гиперпараметров для улучшения результатов\")"
   ]
  },
  {
   "cell_type": "code",
   "execution_count": 6,
   "metadata": {},
   "outputs": [
    {
     "name": "stderr",
     "output_type": "stream",
     "text": [
      "INFO:__main__:\n",
      "=== СОХРАНЕНИЕ РЕЗУЛЬТАТОВ ===\n",
      "INFO:__main__:Результаты сохранены в JSON: data/model_results/model_training_results.json\n",
      "INFO:__main__:Метрики на тестовой выборке сохранены: data/model_results/test_metrics.csv\n",
      "INFO:__main__:Результаты кросс-валидации сохранены: data/model_results/cross_validation_metrics.csv\n",
      "INFO:__main__:Важность признаков сохранена: data/model_results/feature_importance.csv\n",
      "INFO:__main__:Итоговый отчет сохранен: data/model_results/training_report.txt\n",
      "INFO:__main__:\n",
      "Сохраненные файлы:\n",
      "INFO:__main__:  model_training_results.json: 4884 байт\n",
      "INFO:__main__:  cross_validation_metrics.csv: 442 байт\n",
      "INFO:__main__:  feature_importance.csv: 810 байт\n",
      "INFO:__main__:  improved_models_results.json: 423673 байт\n",
      "INFO:__main__:  training_report.txt: 1096 байт\n",
      "INFO:__main__:  modern_models_final.json: 4310 байт\n",
      "INFO:__main__:  test_metrics.csv: 447 байт\n",
      "INFO:__main__:  optimized_models_results.json: 714 байт\n",
      "INFO:__main__:  modern_models_final_fixed.json: 2132 байт\n",
      "INFO:__main__:\n",
      "Все файлы сохранены в директории: /home/qwerty/github/datacon2025/data/model_results\n"
     ]
    }
   ],
   "source": [
    "# === СОХРАНЕНИЕ РЕЗУЛЬТАТОВ В ФАЙЛЫ ===\n",
    "from datetime import datetime\n",
    "from pathlib import Path\n",
    "\n",
    "logger.info(\"\\n=== СОХРАНЕНИЕ РЕЗУЛЬТАТОВ ===\")\n",
    "\n",
    "# Создаем директорию для результатов\n",
    "results_dir = Path(\"data/model_results\")\n",
    "results_dir.mkdir(exist_ok=True)\n",
    "\n",
    "# 1. Сохраняем основные результаты в JSON\n",
    "results_json = {\n",
    "    \"test_results\": all_results,\n",
    "    \"cross_validation_results\": cv_results if cv_results else {},\n",
    "    \"feature_importance\": {\n",
    "        \"top_features\": top_features[:10],  # Топ-10 признаков\n",
    "        \"importance_values\": [float(x) for x in top_importance[:10]],\n",
    "    },\n",
    "    \"descriptor_analysis\": descriptor_types,\n",
    "    \"summary\": {\n",
    "        \"best_model_by_r2\": {\"name\": best_model_name, \"r2\": best_r2},\n",
    "        \"fastest_model\": {\"name\": fastest_model_name, \"time\": fastest_time},\n",
    "        \"total_features\": len(feature_names),\n",
    "        \"training_date\": datetime.now().isoformat(),\n",
    "    },\n",
    "}\n",
    "\n",
    "json_path = results_dir / \"model_training_results.json\"\n",
    "with open(json_path, \"w\", encoding=\"utf-8\") as f:\n",
    "    json.dump(results_json, f, indent=2, ensure_ascii=False)\n",
    "\n",
    "logger.info(f\"Результаты сохранены в JSON: {json_path}\")\n",
    "\n",
    "# 2. Сохраняем детальные метрики в CSV используя polars\n",
    "test_metrics_data = []\n",
    "for model_name, metrics in all_results.items():\n",
    "    test_metrics_data.append(\n",
    "        {\n",
    "            \"model_name\": model_name,\n",
    "            \"mae\": metrics[\"mae\"],\n",
    "            \"mse\": metrics[\"mse\"],\n",
    "            \"rmse\": metrics[\"rmse\"],\n",
    "            \"r2\": metrics[\"r2\"],\n",
    "            \"training_time\": metrics[\"training_time\"],\n",
    "        }\n",
    "    )\n",
    "\n",
    "test_metrics_df = pl.DataFrame(test_metrics_data)\n",
    "csv_path = results_dir / \"test_metrics.csv\"\n",
    "test_metrics_df.write_csv(csv_path)\n",
    "\n",
    "logger.info(f\"Метрики на тестовой выборке сохранены: {csv_path}\")\n",
    "\n",
    "# 3. Сохраняем результаты кросс-валидации в CSV\n",
    "if cv_results:\n",
    "    cv_metrics_data = []\n",
    "    for model_name, cv_metrics in cv_results.items():\n",
    "        cv_metrics_data.append(\n",
    "            {\n",
    "                \"model_name\": model_name,\n",
    "                \"mae_mean\": cv_metrics[\"mae_mean\"],\n",
    "                \"mae_std\": cv_metrics[\"mae_std\"],\n",
    "                \"rmse_mean\": cv_metrics[\"rmse_mean\"],\n",
    "                \"rmse_std\": cv_metrics[\"rmse_std\"],\n",
    "                \"r2_mean\": cv_metrics[\"r2_mean\"],\n",
    "                \"r2_std\": cv_metrics[\"r2_std\"],\n",
    "            }\n",
    "        )\n",
    "\n",
    "    cv_metrics_df = pl.DataFrame(cv_metrics_data)\n",
    "    cv_csv_path = results_dir / \"cross_validation_metrics.csv\"\n",
    "    cv_metrics_df.write_csv(cv_csv_path)\n",
    "\n",
    "    logger.info(f\"Результаты кросс-валидации сохранены: {cv_csv_path}\")\n",
    "\n",
    "# 4. Сохраняем важность признаков в CSV\n",
    "feature_importance_data = []\n",
    "for i, (feature, importance) in enumerate(zip(top_features, top_importance, strict=False)):\n",
    "    feature_importance_data.append({\"rank\": i + 1, \"feature_name\": feature, \"importance\": importance})\n",
    "\n",
    "feature_importance_df = pl.DataFrame(feature_importance_data)\n",
    "importance_csv_path = results_dir / \"feature_importance.csv\"\n",
    "feature_importance_df.write_csv(importance_csv_path)\n",
    "\n",
    "logger.info(f\"Важность признаков сохранена: {importance_csv_path}\")\n",
    "\n",
    "# 5. Создаем итоговый отчет в текстовом формате\n",
    "report_path = results_dir / \"training_report.txt\"\n",
    "with open(report_path, \"w\", encoding=\"utf-8\") as f:\n",
    "    f.write(\"=== ОТЧЕТ ПО ОБУЧЕНИЮ МОДЕЛЕЙ ===\\n\")\n",
    "    f.write(f\"Дата обучения: {datetime.now().strftime('%Y-%m-%d %H:%M:%S')}\\n\")\n",
    "    f.write(f\"Количество признаков: {len(feature_names)}\\n\")\n",
    "    f.write(f\"Размер обучающей выборки: {len(X_train)}\\n\")\n",
    "    f.write(f\"Размер тестовой выборки: {len(X_test)}\\n\\n\")\n",
    "\n",
    "    f.write(\"=== РЕЗУЛЬТАТЫ НА ТЕСТОВОЙ ВЫБОРКЕ ===\\n\")\n",
    "    for model_name, metrics in all_results.items():\n",
    "        f.write(\n",
    "            f\"{model_name:15}: MAE={metrics['mae']:.4f}, RMSE={metrics['rmse']:.4f}, R²={metrics['r2']:.4f}, Время={metrics['training_time']:.2f}s\\n\"\n",
    "        )\n",
    "\n",
    "    if cv_results:\n",
    "        f.write(\"\\n=== РЕЗУЛЬТАТЫ КРОСС-ВАЛИДАЦИИ ===\\n\")\n",
    "        for model_name, cv_metrics in cv_results.items():\n",
    "            mae_mean = cv_metrics[\"mae_mean\"]\n",
    "            mae_std = cv_metrics[\"mae_std\"]\n",
    "            r2_mean = cv_metrics[\"r2_mean\"]\n",
    "            r2_std = cv_metrics[\"r2_std\"]\n",
    "            f.write(f\"{model_name:15}: MAE={mae_mean:.4f}±{mae_std:.4f}, R²={r2_mean:.4f}±{r2_std:.4f}\\n\")\n",
    "\n",
    "    f.write(\"\\n=== ВЫВОДЫ ===\\n\")\n",
    "    f.write(f\"Лучшая модель по R²: {best_model_name} (R² = {best_r2:.4f})\\n\")\n",
    "    f.write(f\"Самая быстрая модель: {fastest_model_name} (время = {fastest_time:.3f} сек)\\n\")\n",
    "    f.write(f\"Топ-5 признаков: {', '.join(top_features[:5])}\\n\")\n",
    "\n",
    "logger.info(f\"Итоговый отчет сохранен: {report_path}\")\n",
    "\n",
    "# Показываем все сохраненные файлы\n",
    "logger.info(\"\\nСохраненные файлы:\")\n",
    "for file_path in results_dir.glob(\"*\"):\n",
    "    file_size = file_path.stat().st_size\n",
    "    logger.info(f\"  {file_path.name}: {file_size} байт\")\n",
    "\n",
    "logger.info(f\"\\nВсе файлы сохранены в директории: {results_dir.absolute()}\")"
   ]
  },
  {
   "cell_type": "code",
   "execution_count": 7,
   "metadata": {},
   "outputs": [
    {
     "name": "stderr",
     "output_type": "stream",
     "text": [
      "INFO:__main__:\n",
      "=== АНАЛИЗ И ВИЗУАЛИЗАЦИЯ РЕЗУЛЬТАТОВ ===\n",
      "INFO:src.model_comparison:Рейтинг моделей создан, лучшая модель: XGBoost\n",
      "INFO:__main__:\n",
      "РЕЙТИНГ МОДЕЛЕЙ:\n",
      "INFO:__main__:shape: (4, 5)\n",
      "┌──────────────┬──────────┬──────────┬──────────┬──────────┐\n",
      "│ model        ┆ score    ┆ mae      ┆ rmse     ┆ r2       │\n",
      "│ ---          ┆ ---      ┆ ---      ┆ ---      ┆ ---      │\n",
      "│ str          ┆ f64      ┆ f64      ┆ f64      ┆ f64      │\n",
      "╞══════════════╪══════════╪══════════╪══════════╪══════════╡\n",
      "│ XGBoost      ┆ 0.436493 ┆ 0.693442 ┆ 0.908288 ┆ 0.523088 │\n",
      "│ RandomForest ┆ 0.369062 ┆ 0.755974 ┆ 0.964879 ┆ 0.461808 │\n",
      "│ MLP          ┆ 0.252891 ┆ 0.837016 ┆ 1.074456 ┆ 0.332626 │\n",
      "│ CNN          ┆ 0.207723 ┆ 0.869382 ┆ 1.114664 ┆ 0.281744 │\n",
      "└──────────────┴──────────┴──────────┴──────────┴──────────┘\n",
      "INFO:__main__:\n",
      "График сравнения создан успешно!\n",
      "INFO:__main__:\n",
      "=== ВЫВОДЫ ===\n",
      "INFO:__main__:Лучшая модель: XGBoost\n",
      "INFO:__main__:   MAE: 0.6934\n",
      "INFO:__main__:   RMSE: 0.9083\n",
      "INFO:__main__:   R²: 0.5231\n",
      "INFO:__main__:   Время обучения: 0.69s\n"
     ]
    }
   ],
   "source": [
    "# Анализ результатов и создание визуализаций\n",
    "logger.info(\"\\n=== АНАЛИЗ И ВИЗУАЛИЗАЦИЯ РЕЗУЛЬТАТОВ ===\")\n",
    "\n",
    "# Создание рейтинга моделей\n",
    "ranking = create_model_ranking(\n",
    "    all_results,\n",
    "    {},  # Пустой словарь CV для упрощения\n",
    "    weights={\"mae\": 0.4, \"rmse\": 0.3, \"r2\": 0.2, \"stability\": 0.1},\n",
    ")\n",
    "\n",
    "logger.info(\"\\nРЕЙТИНГ МОДЕЛЕЙ:\")\n",
    "logger.info(str(ranking.select([\"model\", \"score\", \"mae\", \"rmse\", \"r2\"])))\n",
    "\n",
    "# Создание визуализации сравнения\n",
    "try:\n",
    "    fig = create_performance_comparison(all_results, metrics=[\"mae\", \"rmse\", \"r2\"], title=\"Сравнение производительности моделей\")\n",
    "    logger.info(\"\\nГрафик сравнения создан успешно!\")\n",
    "    # fig.show()  # Раскомментировать для отображения\n",
    "except Exception as e:\n",
    "    logger.warning(f\"\\nОшибка создания графика (возможно, plotly не установлен): {e}\")\n",
    "\n",
    "logger.info(\"\\n=== ВЫВОДЫ ===\")\n",
    "best_model = ranking.row(0)[0]\n",
    "best_metrics = all_results[best_model]\n",
    "logger.info(f\"Лучшая модель: {best_model}\")\n",
    "logger.info(f\"   MAE: {best_metrics['mae']:.4f}\")\n",
    "logger.info(f\"   RMSE: {best_metrics['rmse']:.4f}\")\n",
    "logger.info(f\"   R²: {best_metrics['r2']:.4f}\")\n",
    "logger.info(f\"   Время обучения: {best_metrics['training_time']:.2f}s\")"
   ]
  }
 ],
 "metadata": {
  "kernelspec": {
   "display_name": ".venv",
   "language": "python",
   "name": "python3"
  },
  "language_info": {
   "codemirror_mode": {
    "name": "ipython",
    "version": 3
   },
   "file_extension": ".py",
   "mimetype": "text/x-python",
   "name": "python",
   "nbconvert_exporter": "python",
   "pygments_lexer": "ipython3",
   "version": "3.13.5"
  }
 },
 "nbformat": 4,
 "nbformat_minor": 2
}
