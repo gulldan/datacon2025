{
 "cells": [
  {
   "cell_type": "raw",
   "metadata": {
    "vscode": {
     "languageId": "raw"
    }
   },
   "source": [
    "# Мини-таск 2: Расчёт и отбор дескрипторов\n",
    "\n",
    "В этом ноутбуке выполняется расчёт молекулярных дескрипторов и фингерпринтов для датасета COX-2, \n",
    "полученного в мини-таске 1.\n",
    "\n",
    "## Цели:\n",
    "1. Рассчитать молекулярные дескрипторы (RDKit, Mordred)\n",
    "2. Рассчитать молекулярные фингерпринты (Morgan, MACCS, и др.)\n",
    "3. Отфильтровать низкокачественные признаки\n",
    "4. Создать различные комбинации датасетов для мини-таска 3\n",
    "5. Сохранить результаты и создать визуализации\n",
    "\n",
    "**Требования:**\n",
    "- Результат: Только polars DataFrames (НЕ pandas)\n",
    "- Результат: Plotly для визуализации\n",
    "- Результат: Typing annotations и Google style docstrings\n",
    "- Результат: Использование polars_ds_extension где возможно\n"
   ]
  },
  {
   "cell_type": "code",
   "execution_count": 1,
   "metadata": {},
   "outputs": [
    {
     "name": "stdout",
     "output_type": "stream",
     "text": [
      "2025-07-09 23:22:38,236 - __main__ - INFO - Результат: RDKit доступен\n",
      "2025-07-09 23:22:38,236 - __main__ - INFO - Результат: Mordred доступен\n",
      "2025-07-09 23:22:38,237 - __main__ - INFO - Результат: PaDELPy доступен\n",
      "2025-07-09 23:22:38,237 - __main__ - INFO - Результат: Plotly доступен\n",
      "2025-07-09 23:22:38,237 - __main__ - INFO - Рабочие директории: data, data/descriptors, data/descriptors/visualizations\n"
     ]
    }
   ],
   "source": [
    "# Импорты и настройка логгирования\n",
    "from pathlib import Path\n",
    "\n",
    "import polars as pl\n",
    "\n",
    "from src.dataset_manager import create_dataset_combinations, create_report, get_dataset_statistics, save_datasets\n",
    "from src.descriptor_calculator import (\n",
    "    calculate_fingerprints,\n",
    "    calculate_mordred_descriptors,\n",
    "    calculate_padel_descriptors,\n",
    "    calculate_rdkit_descriptors,\n",
    ")\n",
    "from src.descriptor_visualization import create_descriptors_visualization, create_summary_dashboard\n",
    "from src.feature_filter import filter_descriptors, filter_fingerprints\n",
    "\n",
    "# Наши модули из src/\n",
    "from src.logging_config import get_logger, setup_logging\n",
    "\n",
    "# Настройка логгирования\n",
    "# Настройка логгинга\n",
    "setup_logging(level=\"INFO\", log_file=\"./data/descriptor_calculation.log\")\n",
    "logger = get_logger(__name__)\n",
    "# Проверяем доступность библиотек\n",
    "try:\n",
    "    import rdkit\n",
    "\n",
    "    logger.info(\"Результат: RDKit доступен\")\n",
    "except ImportError:\n",
    "    logger.error(\"Ошибка: RDKit не найден\")\n",
    "\n",
    "try:\n",
    "    import mordred\n",
    "\n",
    "    logger.info(\"Результат: Mordred доступен\")\n",
    "except ImportError:\n",
    "    logger.warning(\"Предупреждение: Mordred не найден (опционально)\")\n",
    "\n",
    "try:\n",
    "    import padelpy\n",
    "\n",
    "    logger.info(\"Результат: PaDELPy доступен\")\n",
    "except ImportError:\n",
    "    logger.warning(\"Предупреждение: PaDELPy не найден (опционально)\")\n",
    "\n",
    "try:\n",
    "    import plotly\n",
    "\n",
    "    logger.info(\"Результат: Plotly доступен\")\n",
    "except ImportError:\n",
    "    logger.error(\"Ошибка: Plotly не найден\")\n",
    "\n",
    "# Настройка путей\n",
    "DATA_DIR = Path(\"data\")\n",
    "OUTPUT_DIR = Path(\"data/descriptors\")\n",
    "VISUALIZATION_DIR = Path(\"data/descriptors/visualizations\")\n",
    "\n",
    "logger.info(f\"Рабочие директории: {DATA_DIR}, {OUTPUT_DIR}, {VISUALIZATION_DIR}\")"
   ]
  },
  {
   "cell_type": "code",
   "execution_count": 2,
   "metadata": {},
   "outputs": [
    {
     "name": "stdout",
     "output_type": "stream",
     "text": [
      "2025-07-09 23:22:38,241 - __main__ - INFO - Файл: Загрузка очищенного датасета COX-2...\n",
      "2025-07-09 23:22:38,267 - __main__ - INFO - Результат: Загружен парquet файл: (3661, 48)\n",
      "2025-07-09 23:22:38,267 - __main__ - INFO - Колонки датасета: ['molecule_chembl_id', 'canonical_smiles', 'standard_type', 'standard_value', 'standard_units', 'pchembl_value', 'activity_id', 'activity_properties', 'assay_chembl_id', 'assay_description', 'assay_type', 'bao_endpoint', 'bao_format', 'bao_label', 'document_chembl_id', 'document_journal', 'document_year', 'ligand_efficiency', 'molecule_pref_name', 'parent_molecule_chembl_id', 'potential_duplicate', 'qudt_units', 'record_id', 'relation', 'src_id', 'standard_flag', 'standard_relation', 'target_chembl_id', 'target_organism', 'target_pref_name', 'target_tax_id', 'type', 'units', 'uo_units', 'value', 'standard_value_nm', 'standard_units_standardized', 'mol_weight', 'log_p', 'hbd', 'hba', 'tpsa', 'rotatable_bonds', 'aromatic_rings', 'is_valid_molecule', 'activity_class', 'is_active', 'pic50']\n",
      "2025-07-09 23:22:38,268 - __main__ - INFO - Количество молекул: 3661\n",
      "2025-07-09 23:22:38,270 - __main__ - INFO - Результат: Подготовлено 3661 SMILES для расчёта дескрипторов\n"
     ]
    }
   ],
   "source": [
    "# Загрузка очищенного датасета из мини-таска 1\n",
    "logger.info(\"Файл: Загрузка очищенного датасета COX-2...\")\n",
    "\n",
    "# Попробуем загрузить из Parquet (быстрее), если нет - из CSV\n",
    "parquet_path = DATA_DIR / \"cox2_final_dataset.parquet\"\n",
    "csv_path = DATA_DIR / \"cox2_final_dataset.csv\"\n",
    "\n",
    "if parquet_path.exists():\n",
    "    dataset = pl.read_parquet(parquet_path)\n",
    "    logger.info(f\"Результат: Загружен парquet файл: {dataset.shape}\")\n",
    "elif csv_path.exists():\n",
    "    dataset = pl.read_csv(csv_path)\n",
    "    logger.info(f\"Результат: Загружен CSV файл: {dataset.shape}\")\n",
    "else:\n",
    "    raise FileNotFoundError(\"Не найден очищенный датасет! Сначала выполните мини-таск 1\")\n",
    "\n",
    "# Проверяем структуру данных\n",
    "logger.info(f\"Колонки датасета: {dataset.columns}\")\n",
    "logger.info(f\"Количество молекул: {dataset.shape[0]}\")\n",
    "\n",
    "# Проверяем наличие необходимых колонок (исправленные имена)\n",
    "required_columns = [\"canonical_smiles\", \"pic50\"]\n",
    "for col in required_columns:\n",
    "    if col not in dataset.columns:\n",
    "        raise ValueError(f\"Отсутствует обязательная колонка: {col}\")\n",
    "\n",
    "# Базовые данные для объединения с дескрипторами\n",
    "base_data = dataset.select([\"canonical_smiles\", \"pic50\"])\n",
    "smiles_list = dataset[\"canonical_smiles\"].to_list()\n",
    "\n",
    "logger.info(f\"Результат: Подготовлено {len(smiles_list)} SMILES для расчёта дескрипторов\")"
   ]
  },
  {
   "cell_type": "code",
   "execution_count": 3,
   "metadata": {},
   "outputs": [
    {
     "name": "stdout",
     "output_type": "stream",
     "text": [
      "2025-07-09 23:22:38,273 - __main__ - INFO - Расчет: Расчёт RDKit дескрипторов...\n",
      "2025-07-09 23:22:38,282 - src.descriptor_calculator - INFO - Загружены rdkit дескрипторы из кэша (217 дескрипторов)\n",
      "2025-07-09 23:22:38,282 - __main__ - INFO - Результат: RDKit дескрипторы: (3661, 217)\n",
      "2025-07-09 23:22:38,283 - __main__ - INFO - Расчет: Расчёт Mordred дескрипторов...\n",
      "2025-07-09 23:22:38,330 - src.descriptor_calculator - INFO - Загружены mordred дескрипторы из кэша (1613 дескрипторов)\n",
      "2025-07-09 23:22:38,330 - __main__ - INFO - Результат: Mordred дескрипторы: (3661, 1613)\n"
     ]
    }
   ],
   "source": [
    "# Расчёт молекулярных дескрипторов\n",
    "\n",
    "# 1. RDKit дескрипторы (всегда доступны)\n",
    "logger.info(\"Расчет: Расчёт RDKit дескрипторов...\")\n",
    "rdkit_descriptors = calculate_rdkit_descriptors(smiles_list)\n",
    "logger.info(f\"Результат: RDKit дескрипторы: {rdkit_descriptors.shape}\")\n",
    "\n",
    "# 2. Mordred дескрипторы (если доступны)\n",
    "logger.info(\"Расчет: Расчёт Mordred дескрипторов...\")\n",
    "mordred_descriptors = calculate_mordred_descriptors(smiles_list)\n",
    "if mordred_descriptors is not None:\n",
    "    logger.info(f\"Результат: Mordred дескрипторы: {mordred_descriptors.shape}\")\n",
    "else:\n",
    "    logger.warning(\"Предупреждение: Mordred дескрипторы недоступны\")\n",
    "\n",
    "# Сохраняем исходные дескрипторы для статистики\n",
    "original_descriptors = {\"rdkit\": rdkit_descriptors}\n",
    "if mordred_descriptors is not None:\n",
    "    original_descriptors[\"mordred\"] = mordred_descriptors"
   ]
  },
  {
   "cell_type": "code",
   "execution_count": 4,
   "metadata": {},
   "outputs": [
    {
     "name": "stdout",
     "output_type": "stream",
     "text": [
      "2025-07-09 23:22:38,334 - __main__ - INFO - Расчет: Расчёт PaDEL дескрипторов...\n",
      "2025-07-09 23:22:38,388 - src.descriptor_calculator - INFO - Загружены padel дескрипторы из кэша (2325 дескрипторов)\n",
      "2025-07-09 23:22:38,388 - __main__ - INFO - Результат: PaDEL дескрипторы: (3661, 2325)\n",
      "2025-07-09 23:22:38,389 - __main__ - INFO - Метка: Примеры дескрипторов: ['nAcid', 'ALogP', 'ALogp2', 'AMR', 'apol', 'naAromAtom', 'nAromBond', 'nAtom', 'nHeavyAtom', 'nH']\n"
     ]
    }
   ],
   "source": [
    "# 3. PaDEL дескрипторы (если доступны)\n",
    "logger.info(\"Расчет: Расчёт PaDEL дескрипторов...\")\n",
    "try:\n",
    "    # Рассчитываем PaDEL дескрипторы для всех молекул\n",
    "    padel_descriptors = calculate_padel_descriptors(\n",
    "        smiles_list,\n",
    "        fingerprints=True,  # Включаем фингерпринты\n",
    "        d_2d=True,  # Включаем 2D дескрипторы\n",
    "        d_3d=True,  # Отключаем 3D дескрипторы (быстрее)\n",
    "    )\n",
    "\n",
    "    if padel_descriptors is not None:\n",
    "        logger.info(f\"Результат: PaDEL дескрипторы: {padel_descriptors.shape}\")\n",
    "        logger.info(f\"Метка: Примеры дескрипторов: {padel_descriptors.columns[:10]}\")\n",
    "\n",
    "        # Добавляем PaDEL к исходным дескрипторам\n",
    "        original_descriptors[\"padel\"] = padel_descriptors\n",
    "    else:\n",
    "        logger.warning(\"PaDEL дескрипторы недоступны\")\n",
    "\n",
    "except Exception as e:\n",
    "    logger.error(f\"Ошибка при расчёте PaDEL дескрипторов: {e}\")\n",
    "    logger.warning(\"Продолжаем без PaDEL дескрипторов\")"
   ]
  },
  {
   "cell_type": "code",
   "execution_count": 5,
   "metadata": {},
   "outputs": [
    {
     "name": "stdout",
     "output_type": "stream",
     "text": [
      "2025-07-09 23:22:38,392 - __main__ - INFO - Фильтрация: Расчёт молекулярных фингерпринтов...\n",
      "2025-07-09 23:22:38,427 - src.descriptor_calculator - INFO - Загружены fingerprint_morgan_2048 дескрипторы из кэша (2048 дескрипторов)\n",
      "2025-07-09 23:22:38,447 - src.descriptor_calculator - INFO - Загружены fingerprint_morgan_1024 дескрипторы из кэша (1024 дескрипторов)\n",
      "2025-07-09 23:22:38,451 - src.descriptor_calculator - INFO - Загружены fingerprint_maccs дескрипторы из кэша (166 дескрипторов)\n",
      "2025-07-09 23:22:38,473 - src.descriptor_calculator - INFO - Загружены fingerprint_atompairs дескрипторы из кэша (2048 дескрипторов)\n",
      "2025-07-09 23:22:38,498 - src.descriptor_calculator - INFO - Загружены fingerprint_topological дескрипторы из кэша (2048 дескрипторов)\n",
      "2025-07-09 23:22:38,498 - src.descriptor_calculator - INFO - Кэш: Все фингерпринты загружены из кэша\n",
      "2025-07-09 23:22:38,499 - __main__ - INFO - Результат: morgan_2048: (7322, 2048)\n",
      "2025-07-09 23:22:38,499 - __main__ - INFO - Результат: morgan_1024: (7322, 1024)\n",
      "2025-07-09 23:22:38,499 - __main__ - INFO - Результат: maccs: (3661, 166)\n",
      "2025-07-09 23:22:38,499 - __main__ - INFO - Результат: atompairs: (3661, 2048)\n",
      "2025-07-09 23:22:38,499 - __main__ - INFO - Результат: topological: (3661, 2048)\n"
     ]
    }
   ],
   "source": [
    "# Расчёт молекулярных фингерпринтов\n",
    "logger.info(\"Фильтрация: Расчёт молекулярных фингерпринтов...\")\n",
    "fingerprint_dfs = calculate_fingerprints(smiles_list)\n",
    "\n",
    "# Выводим информацию о рассчитанных фингерпринтах\n",
    "for fp_type, fp_df in fingerprint_dfs.items():\n",
    "    logger.info(f\"Результат: {fp_type}: {fp_df.shape}\")\n",
    "\n",
    "# Добавляем фингерпринты к исходным дескрипторам для статистики\n",
    "original_descriptors.update(fingerprint_dfs)"
   ]
  },
  {
   "cell_type": "code",
   "execution_count": 6,
   "metadata": {},
   "outputs": [
    {
     "name": "stdout",
     "output_type": "stream",
     "text": [
      "2025-07-09 23:22:38,504 - __main__ - INFO - Фильтрация: Фильтрация дескрипторов и фингерпринтов...\n",
      "2025-07-09 23:22:38,504 - src.feature_filter - INFO - Фильтрация дескрипторов RDKit...\n",
      "2025-07-09 23:22:38,504 - src.feature_filter - INFO - Исходное количество дескрипторов: 217\n",
      "2025-07-09 23:22:38,513 - src.feature_filter - INFO - Удалено дескрипторов с >10.0% null: 0\n",
      "2025-07-09 23:22:38,553 - src.feature_filter - INFO - Удалено дескрипторов с низкой дисперсией (<0.001): 17\n",
      "2025-07-09 23:22:38,612 - src.feature_filter - INFO - Удалено высококоррелированных дескрипторов (r>0.7): 75\n",
      "2025-07-09 23:22:38,613 - src.feature_filter - INFO - Финальное количество дескрипторов RDKit: 125\n",
      "2025-07-09 23:22:38,614 - src.feature_filter - INFO - Фильтрация дескрипторов Mordred...\n",
      "2025-07-09 23:22:38,614 - src.feature_filter - INFO - Исходное количество дескрипторов: 1613\n",
      "2025-07-09 23:22:38,783 - src.feature_filter - INFO - Удалено дескрипторов с >10.0% null: 184\n",
      "2025-07-09 23:22:43,165 - src.feature_filter - INFO - Удалено дескрипторов с низкой дисперсией (<0.001): 246\n",
      "2025-07-09 23:22:45,901 - src.feature_filter - INFO - Удалено высококоррелированных дескрипторов (r>0.7): 992\n",
      "2025-07-09 23:22:45,901 - src.feature_filter - INFO - Финальное количество дескрипторов Mordred: 191\n",
      "2025-07-09 23:22:46,063 - src.feature_filter - INFO - morgan_2048: удалено 1685 неинформативных битов, осталось 363\n",
      "2025-07-09 23:22:46,120 - src.feature_filter - INFO - morgan_1024: удалено 614 неинформативных битов, осталось 410\n",
      "2025-07-09 23:22:46,124 - src.feature_filter - INFO - maccs: удалено 166 неинформативных битов, осталось 0\n",
      "2025-07-09 23:22:46,260 - src.feature_filter - INFO - atompairs: удалено 2048 неинформативных битов, осталось 0\n",
      "2025-07-09 23:22:46,396 - src.feature_filter - INFO - topological: удалено 2048 неинформативных битов, осталось 0\n",
      "2025-07-09 23:22:46,397 - __main__ - INFO - Фильтрация завершена\n"
     ]
    }
   ],
   "source": [
    "# Фильтрация признаков по критериям качества\n",
    "\n",
    "logger.info(\"Фильтрация: Фильтрация дескрипторов и фингерпринтов...\")\n",
    "\n",
    "# 1. Фильтрация RDKit дескрипторов\n",
    "rdkit_filtered = filter_descriptors(\n",
    "    rdkit_descriptors,\n",
    "    name_prefix=\"RDKit\",\n",
    "    null_threshold=0.1,  # Удаляем дескрипторы с >10% null\n",
    "    variance_threshold=0.001,  # Удаляем дескрипторы с очень низкой дисперсией\n",
    "    correlation_threshold=0.7,  # Удаляем высококоррелированные (r>0.7)\n",
    ")\n",
    "\n",
    "# 2. Фильтрация Mordred дескрипторов (если доступны)\n",
    "if mordred_descriptors is not None:\n",
    "    mordred_filtered = filter_descriptors(\n",
    "        mordred_descriptors, name_prefix=\"Mordred\", null_threshold=0.1, variance_threshold=0.001, correlation_threshold=0.7\n",
    "    )\n",
    "else:\n",
    "    mordred_filtered = None\n",
    "\n",
    "# 3. Фильтрация фингерпринтов (удаляем неинформативные биты)\n",
    "filtered_fingerprints = {}\n",
    "for fp_type, fp_df in fingerprint_dfs.items():\n",
    "    filtered_fp = filter_fingerprints(\n",
    "        fp_df,\n",
    "        name_prefix=fp_type,\n",
    "        variance_threshold=0.01,  # Для бинарных данных используем более низкий порог\n",
    "    )\n",
    "    filtered_fingerprints[fp_type] = filtered_fp\n",
    "\n",
    "# Сохраняем отфильтрованные дескрипторы для статистики\n",
    "filtered_descriptors = {\"rdkit\": rdkit_filtered}\n",
    "if mordred_filtered is not None:\n",
    "    filtered_descriptors[\"mordred\"] = mordred_filtered\n",
    "\n",
    "filtered_descriptors.update(filtered_fingerprints)\n",
    "\n",
    "logger.info(\"Фильтрация завершена\")"
   ]
  },
  {
   "cell_type": "code",
   "execution_count": 7,
   "metadata": {},
   "outputs": [
    {
     "name": "stdout",
     "output_type": "stream",
     "text": [
      "2025-07-09 23:22:46,401 - __main__ - INFO - Статистика: Создание различных комбинаций датасетов...\n",
      "2025-07-09 23:22:46,402 - src.dataset_manager - INFO - Успешно: RDKit датасет: (3661, 127)\n",
      "2025-07-09 23:22:46,403 - src.dataset_manager - INFO - Успешно: Mordred датасет: (3661, 193)\n",
      "2025-07-09 23:22:46,405 - src.dataset_manager - INFO - Успешно: morgan_2048 датасет: (7322, 365)\n",
      "2025-07-09 23:22:46,406 - src.dataset_manager - INFO - Успешно: morgan_1024 датасет: (7322, 412)\n",
      "2025-07-09 23:22:46,407 - src.dataset_manager - INFO - Успешно: maccs датасет: (3661, 2)\n",
      "2025-07-09 23:22:46,407 - src.dataset_manager - INFO - Успешно: atompairs датасет: (3661, 2)\n",
      "2025-07-09 23:22:46,407 - src.dataset_manager - INFO - Успешно: topological датасет: (3661, 2)\n",
      "2025-07-09 23:22:46,409 - src.dataset_manager - INFO - Успешно: Комбинированный датасет (RDKit + Morgan): (7322, 537)\n",
      "2025-07-09 23:22:46,416 - src.dataset_manager - INFO - Успешно: Лучший комбинированный датасет: (7322, 562)\n",
      "2025-07-09 23:22:46,423 - __main__ - INFO - График: Статистика созданных датасетов:\n",
      "2025-07-09 23:22:46,423 - __main__ - INFO -   rdkit_descriptors: 3661 молекул × 127 признаков\n",
      "2025-07-09 23:22:46,424 - __main__ - INFO -   mordred_descriptors: 3661 молекул × 193 признаков\n",
      "2025-07-09 23:22:46,424 - __main__ - INFO -   fingerprints_morgan_2048: 7322 молекул × 365 признаков\n",
      "2025-07-09 23:22:46,424 - __main__ - INFO -   fingerprints_morgan_1024: 7322 молекул × 412 признаков\n",
      "2025-07-09 23:22:46,424 - __main__ - INFO -   fingerprints_maccs: 3661 молекул × 2 признаков\n",
      "2025-07-09 23:22:46,424 - __main__ - INFO -   fingerprints_atompairs: 3661 молекул × 2 признаков\n",
      "2025-07-09 23:22:46,425 - __main__ - INFO -   fingerprints_topological: 3661 молекул × 2 признаков\n",
      "2025-07-09 23:22:46,425 - __main__ - INFO -   combined_rdkit_morgan: 7322 молекул × 537 признаков\n",
      "2025-07-09 23:22:46,425 - __main__ - INFO -   best_combined: 7322 молекул × 562 признаков\n",
      "2025-07-09 23:22:46,425 - __main__ - INFO - Создано 9 датасетов для мини-таска 3\n"
     ]
    }
   ],
   "source": [
    "# Создание различных комбинаций датасетов\n",
    "\n",
    "logger.info(\"Статистика: Создание различных комбинаций датасетов...\")\n",
    "\n",
    "# Создаём различные комбинации признаков для мини-таска 3\n",
    "datasets_to_save = create_dataset_combinations(\n",
    "    base_data=base_data,\n",
    "    rdkit_filtered=rdkit_filtered,\n",
    "    mordred_filtered=mordred_filtered,\n",
    "    filtered_fingerprints=filtered_fingerprints,\n",
    ")\n",
    "\n",
    "# Получаем статистику по созданным датасетам\n",
    "dataset_statistics = get_dataset_statistics(datasets_to_save)\n",
    "\n",
    "# Выводим краткую статистику\n",
    "logger.info(\"График: Статистика созданных датасетов:\")\n",
    "for name, stats in dataset_statistics.items():\n",
    "    logger.info(f\"  {name}: {stats['molecules']} молекул × {stats['features']} признаков\")\n",
    "\n",
    "logger.info(f\"Создано {len(datasets_to_save)} датасетов для мини-таска 3\")"
   ]
  },
  {
   "cell_type": "code",
   "execution_count": 8,
   "metadata": {},
   "outputs": [
    {
     "name": "stdout",
     "output_type": "stream",
     "text": [
      "2025-07-09 23:22:46,429 - __main__ - INFO - Сохранено: Сохранение датасетов...\n",
      "2025-07-09 23:22:46,448 - src.dataset_manager - INFO - Сохранено: Сохранён датасет rdkit_descriptors: (3661, 127)\n",
      "2025-07-09 23:22:46,483 - src.dataset_manager - INFO - Сохранено: Сохранён датасет mordred_descriptors: (3661, 193)\n",
      "2025-07-09 23:22:46,506 - src.dataset_manager - INFO - Сохранено: Сохранён датасет fingerprints_morgan_2048: (7322, 365)\n",
      "2025-07-09 23:22:46,531 - src.dataset_manager - INFO - Сохранено: Сохранён датасет fingerprints_morgan_1024: (7322, 412)\n",
      "2025-07-09 23:22:46,533 - src.dataset_manager - INFO - Сохранено: Сохранён датасет fingerprints_maccs: (3661, 2)\n",
      "2025-07-09 23:22:46,534 - src.dataset_manager - INFO - Сохранено: Сохранён датасет fingerprints_atompairs: (3661, 2)\n",
      "2025-07-09 23:22:46,536 - src.dataset_manager - INFO - Сохранено: Сохранён датасет fingerprints_topological: (3661, 2)\n",
      "2025-07-09 23:22:46,575 - src.dataset_manager - INFO - Сохранено: Сохранён датасет combined_rdkit_morgan: (7322, 537)\n",
      "2025-07-09 23:22:46,629 - src.dataset_manager - INFO - Сохранено: Сохранён датасет best_combined: (7322, 562)\n",
      "2025-07-09 23:22:46,629 - src.dataset_manager - INFO - Отчет: Отчёт сохранён: data/descriptors/cox2_descriptors_report.txt\n",
      "2025-07-09 23:22:46,630 - __main__ - INFO - Все датасеты сохранены в data/descriptors\n",
      "2025-07-09 23:22:46,630 - __main__ - INFO - Отчёт сохранён: data/descriptors/cox2_descriptors_report.txt\n"
     ]
    }
   ],
   "source": [
    "# Сохранение датасетов и создание отчёта\n",
    "\n",
    "logger.info(\"Сохранено: Сохранение датасетов...\")\n",
    "\n",
    "# Создаём директорию для выходных файлов\n",
    "OUTPUT_DIR.mkdir(exist_ok=True)\n",
    "\n",
    "# Сохраняем все датасеты в CSV и Parquet форматах\n",
    "save_datasets(datasets_to_save, OUTPUT_DIR)\n",
    "\n",
    "# Создаём сводный отчёт\n",
    "report_path = OUTPUT_DIR / \"cox2_descriptors_report.txt\"\n",
    "create_report(\n",
    "    datasets=datasets_to_save,\n",
    "    smiles_list=smiles_list,\n",
    "    rdkit_descriptors=rdkit_descriptors,\n",
    "    rdkit_filtered=rdkit_filtered,\n",
    "    mordred_descriptors=mordred_descriptors,\n",
    "    mordred_filtered=mordred_filtered,\n",
    "    fingerprint_dfs=fingerprint_dfs,\n",
    "    filtered_fingerprints=filtered_fingerprints,\n",
    "    output_path=report_path,\n",
    ")\n",
    "\n",
    "logger.info(f\"Все датасеты сохранены в {OUTPUT_DIR}\")\n",
    "logger.info(f\"Отчёт сохранён: {report_path}\")"
   ]
  },
  {
   "cell_type": "code",
   "execution_count": 9,
   "metadata": {},
   "outputs": [
    {
     "name": "stdout",
     "output_type": "stream",
     "text": [
      "2025-07-09 23:22:46,633 - __main__ - INFO - Создание визуализаций...\n",
      "2025-07-09 23:22:46,668 - src.descriptor_visualization - INFO - Успешно: График количества признаков сохранён\n",
      "2025-07-09 23:22:47,411 - src.descriptor_visualization - INFO - Успешно: Анализ пропущенных значений сохранён\n",
      "2025-07-09 23:22:47,427 - src.descriptor_visualization - INFO - Успешно: График размеров датасетов сохранён\n",
      "2025-07-09 23:22:47,659 - src.descriptor_visualization - INFO - Успешно: Анализ фингерпринтов сохранён\n",
      "2025-07-09 23:22:47,660 - src.descriptor_visualization - INFO - Статистика: Визуализации сохранены в data/descriptors/visualizations\n",
      "2025-07-09 23:22:47,672 - src.descriptor_visualization - INFO - Успешно: Сводная панель сохранена: data/descriptors/visualizations/summary_dashboard.html\n",
      "2025-07-09 23:22:47,673 - __main__ - INFO - Все визуализации сохранены в data/descriptors/visualizations\n"
     ]
    }
   ],
   "source": [
    "# Создание визуализаций и анализ\n",
    "\n",
    "logger.info(\"Создание визуализаций...\")\n",
    "\n",
    "# Создаём директорию для визуализаций\n",
    "VISUALIZATION_DIR.mkdir(exist_ok=True)\n",
    "\n",
    "# Создаём комплексную визуализацию дескрипторов\n",
    "create_descriptors_visualization(\n",
    "    datasets=datasets_to_save,\n",
    "    original_descriptors=original_descriptors,\n",
    "    filtered_descriptors=filtered_descriptors,\n",
    "    output_dir=VISUALIZATION_DIR,\n",
    ")\n",
    "\n",
    "# Создаём сводную панель статистики\n",
    "dashboard_path = VISUALIZATION_DIR / \"summary_dashboard.html\"\n",
    "create_summary_dashboard(datasets=datasets_to_save, statistics=dataset_statistics, output_path=dashboard_path)\n",
    "\n",
    "logger.info(f\"Все визуализации сохранены в {VISUALIZATION_DIR}\")"
   ]
  },
  {
   "cell_type": "code",
   "execution_count": null,
   "metadata": {},
   "outputs": [],
   "source": []
  }
 ],
 "metadata": {
  "kernelspec": {
   "display_name": ".venv",
   "language": "python",
   "name": "python3"
  },
  "language_info": {
   "codemirror_mode": {
    "name": "ipython",
    "version": 3
   },
   "file_extension": ".py",
   "mimetype": "text/x-python",
   "name": "python",
   "nbconvert_exporter": "python",
   "pygments_lexer": "ipython3",
   "version": "3.13.5"
  }
 },
 "nbformat": 4,
 "nbformat_minor": 2
}
